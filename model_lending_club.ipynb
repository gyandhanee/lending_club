{
 "cells": [
  {
   "cell_type": "markdown",
   "metadata": {
    "_uuid": "d46ed1c3995a503671cce9c5a2b0be7c9afafa0e"
   },
   "source": [
    "# Credit Risk Model on Lending Club Loan Data"
   ]
  },
  {
   "cell_type": "markdown",
   "metadata": {
    "_uuid": "eea3a24dae54a8a7c45b28e7fd086302bec9a5ca"
   },
   "source": [
    "In this kernel I will be going over the Lending Club Loan Data where the data is imbalanced, big and has multiple features with different data types. For the purpose of modelling, I will be taking all default loans as the target variable and will be trying to predict if a loan will default or not.\n",
    "\n",
    "---"
   ]
  },
  {
   "cell_type": "markdown",
   "metadata": {
    "_uuid": "efc14f0d4f3eb7aebe0e428a12778818136d7aa1"
   },
   "source": [
    "\n",
    "# Importing the data"
   ]
  },
  {
   "cell_type": "markdown",
   "metadata": {
    "_uuid": "9a48cff4fdda573f7c44956cbfca264d46cc24c8"
   },
   "source": [
    "First, importing necessary libraries,"
   ]
  },
  {
   "cell_type": "code",
   "execution_count": 1,
   "metadata": {
    "_cell_guid": "b1076dfc-b9ad-4769-8c92-a6c4dae69d19",
    "_uuid": "8f2839f25d086af736a60e9eeb907d3b93b6e0e5",
    "scrolled": true
   },
   "outputs": [],
   "source": [
    "#Imports \n",
    "\n",
    "import pandas as pd\n",
    "import numpy as np\n",
    "import matplotlib.pyplot as plt\n",
    "import seaborn as sns\n",
    "sns.set_style('whitegrid')\n",
    "import warnings\n",
    "import gc\n",
    "warnings.simplefilter(action='ignore', category=FutureWarning)\n",
    "warnings.simplefilter(action='ignore', category=DeprecationWarning)\n",
    "%matplotlib inline"
   ]
  },
  {
   "cell_type": "code",
   "execution_count": 2,
   "metadata": {
    "_uuid": "39f5d0e2ca907cca87765e7ed87c2c9669e1ad42"
   },
   "outputs": [],
   "source": [
    "start_df = pd.read_csv('./loan.csv', low_memory=False)"
   ]
  },
  {
   "cell_type": "markdown",
   "metadata": {
    "_uuid": "f422dd4f752638e4d98c37cd594532897be54f64"
   },
   "source": [
    "Working on a copy of the dataframe so that I do not have to re-read the entire dataset again in order to save memory."
   ]
  },
  {
   "cell_type": "code",
   "execution_count": 3,
   "metadata": {
    "_uuid": "ba2b9730ea92804dccf425b78473c34256c74cc1",
    "scrolled": false
   },
   "outputs": [
    {
     "data": {
      "text/html": [
       "<div>\n",
       "<style scoped>\n",
       "    .dataframe tbody tr th:only-of-type {\n",
       "        vertical-align: middle;\n",
       "    }\n",
       "\n",
       "    .dataframe tbody tr th {\n",
       "        vertical-align: top;\n",
       "    }\n",
       "\n",
       "    .dataframe thead th {\n",
       "        text-align: right;\n",
       "    }\n",
       "</style>\n",
       "<table border=\"1\" class=\"dataframe\">\n",
       "  <thead>\n",
       "    <tr style=\"text-align: right;\">\n",
       "      <th></th>\n",
       "      <th>index</th>\n",
       "      <th>id</th>\n",
       "      <th>member_id</th>\n",
       "      <th>loan_amnt</th>\n",
       "      <th>funded_amnt</th>\n",
       "      <th>funded_amnt_inv</th>\n",
       "      <th>term</th>\n",
       "      <th>int_rate</th>\n",
       "      <th>installment</th>\n",
       "      <th>grade</th>\n",
       "      <th>...</th>\n",
       "      <th>total_bal_il</th>\n",
       "      <th>il_util</th>\n",
       "      <th>open_rv_12m</th>\n",
       "      <th>open_rv_24m</th>\n",
       "      <th>max_bal_bc</th>\n",
       "      <th>all_util</th>\n",
       "      <th>total_rev_hi_lim</th>\n",
       "      <th>inq_fi</th>\n",
       "      <th>total_cu_tl</th>\n",
       "      <th>inq_last_12m</th>\n",
       "    </tr>\n",
       "  </thead>\n",
       "  <tbody>\n",
       "    <tr>\n",
       "      <th>0</th>\n",
       "      <td>0</td>\n",
       "      <td>1077501</td>\n",
       "      <td>1296599.0</td>\n",
       "      <td>5000.0</td>\n",
       "      <td>5000.0</td>\n",
       "      <td>4975.0</td>\n",
       "      <td>36 months</td>\n",
       "      <td>10.65%</td>\n",
       "      <td>162.87</td>\n",
       "      <td>B</td>\n",
       "      <td>...</td>\n",
       "      <td>NaN</td>\n",
       "      <td>NaN</td>\n",
       "      <td>NaN</td>\n",
       "      <td>NaN</td>\n",
       "      <td>NaN</td>\n",
       "      <td>NaN</td>\n",
       "      <td>NaN</td>\n",
       "      <td>NaN</td>\n",
       "      <td>NaN</td>\n",
       "      <td>NaN</td>\n",
       "    </tr>\n",
       "    <tr>\n",
       "      <th>1</th>\n",
       "      <td>1</td>\n",
       "      <td>1077430</td>\n",
       "      <td>1314167.0</td>\n",
       "      <td>2500.0</td>\n",
       "      <td>2500.0</td>\n",
       "      <td>2500.0</td>\n",
       "      <td>60 months</td>\n",
       "      <td>15.27%</td>\n",
       "      <td>59.83</td>\n",
       "      <td>C</td>\n",
       "      <td>...</td>\n",
       "      <td>NaN</td>\n",
       "      <td>NaN</td>\n",
       "      <td>NaN</td>\n",
       "      <td>NaN</td>\n",
       "      <td>NaN</td>\n",
       "      <td>NaN</td>\n",
       "      <td>NaN</td>\n",
       "      <td>NaN</td>\n",
       "      <td>NaN</td>\n",
       "      <td>NaN</td>\n",
       "    </tr>\n",
       "    <tr>\n",
       "      <th>2</th>\n",
       "      <td>2</td>\n",
       "      <td>1077175</td>\n",
       "      <td>1313524.0</td>\n",
       "      <td>2400.0</td>\n",
       "      <td>2400.0</td>\n",
       "      <td>2400.0</td>\n",
       "      <td>36 months</td>\n",
       "      <td>15.96%</td>\n",
       "      <td>84.33</td>\n",
       "      <td>C</td>\n",
       "      <td>...</td>\n",
       "      <td>NaN</td>\n",
       "      <td>NaN</td>\n",
       "      <td>NaN</td>\n",
       "      <td>NaN</td>\n",
       "      <td>NaN</td>\n",
       "      <td>NaN</td>\n",
       "      <td>NaN</td>\n",
       "      <td>NaN</td>\n",
       "      <td>NaN</td>\n",
       "      <td>NaN</td>\n",
       "    </tr>\n",
       "    <tr>\n",
       "      <th>3</th>\n",
       "      <td>3</td>\n",
       "      <td>1076863</td>\n",
       "      <td>1277178.0</td>\n",
       "      <td>10000.0</td>\n",
       "      <td>10000.0</td>\n",
       "      <td>10000.0</td>\n",
       "      <td>36 months</td>\n",
       "      <td>13.49%</td>\n",
       "      <td>339.31</td>\n",
       "      <td>C</td>\n",
       "      <td>...</td>\n",
       "      <td>NaN</td>\n",
       "      <td>NaN</td>\n",
       "      <td>NaN</td>\n",
       "      <td>NaN</td>\n",
       "      <td>NaN</td>\n",
       "      <td>NaN</td>\n",
       "      <td>NaN</td>\n",
       "      <td>NaN</td>\n",
       "      <td>NaN</td>\n",
       "      <td>NaN</td>\n",
       "    </tr>\n",
       "    <tr>\n",
       "      <th>4</th>\n",
       "      <td>4</td>\n",
       "      <td>1075358</td>\n",
       "      <td>1311748.0</td>\n",
       "      <td>3000.0</td>\n",
       "      <td>3000.0</td>\n",
       "      <td>3000.0</td>\n",
       "      <td>60 months</td>\n",
       "      <td>12.69%</td>\n",
       "      <td>67.79</td>\n",
       "      <td>B</td>\n",
       "      <td>...</td>\n",
       "      <td>NaN</td>\n",
       "      <td>NaN</td>\n",
       "      <td>NaN</td>\n",
       "      <td>NaN</td>\n",
       "      <td>NaN</td>\n",
       "      <td>NaN</td>\n",
       "      <td>NaN</td>\n",
       "      <td>NaN</td>\n",
       "      <td>NaN</td>\n",
       "      <td>NaN</td>\n",
       "    </tr>\n",
       "  </tbody>\n",
       "</table>\n",
       "<p>5 rows × 75 columns</p>\n",
       "</div>"
      ],
      "text/plain": [
       "   index       id  member_id  loan_amnt  funded_amnt  funded_amnt_inv  \\\n",
       "0      0  1077501  1296599.0     5000.0       5000.0           4975.0   \n",
       "1      1  1077430  1314167.0     2500.0       2500.0           2500.0   \n",
       "2      2  1077175  1313524.0     2400.0       2400.0           2400.0   \n",
       "3      3  1076863  1277178.0    10000.0      10000.0          10000.0   \n",
       "4      4  1075358  1311748.0     3000.0       3000.0           3000.0   \n",
       "\n",
       "         term int_rate  installment grade     ...      total_bal_il il_util  \\\n",
       "0   36 months   10.65%       162.87     B     ...               NaN     NaN   \n",
       "1   60 months   15.27%        59.83     C     ...               NaN     NaN   \n",
       "2   36 months   15.96%        84.33     C     ...               NaN     NaN   \n",
       "3   36 months   13.49%       339.31     C     ...               NaN     NaN   \n",
       "4   60 months   12.69%        67.79     B     ...               NaN     NaN   \n",
       "\n",
       "  open_rv_12m open_rv_24m  max_bal_bc all_util total_rev_hi_lim inq_fi  \\\n",
       "0         NaN         NaN         NaN      NaN              NaN    NaN   \n",
       "1         NaN         NaN         NaN      NaN              NaN    NaN   \n",
       "2         NaN         NaN         NaN      NaN              NaN    NaN   \n",
       "3         NaN         NaN         NaN      NaN              NaN    NaN   \n",
       "4         NaN         NaN         NaN      NaN              NaN    NaN   \n",
       "\n",
       "  total_cu_tl inq_last_12m  \n",
       "0         NaN          NaN  \n",
       "1         NaN          NaN  \n",
       "2         NaN          NaN  \n",
       "3         NaN          NaN  \n",
       "4         NaN          NaN  \n",
       "\n",
       "[5 rows x 75 columns]"
      ]
     },
     "execution_count": 3,
     "metadata": {},
     "output_type": "execute_result"
    }
   ],
   "source": [
    "df = start_df.copy(deep=True)\n",
    "df.head()"
   ]
  },
  {
   "cell_type": "markdown",
   "metadata": {
    "_uuid": "96e014278797465e932a6073b54813037f9349e0"
   },
   "source": [
    "Checking the dimensions,"
   ]
  },
  {
   "cell_type": "code",
   "execution_count": 4,
   "metadata": {
    "_uuid": "cf4007a1a46e22421ede9b7b28c206cca81aac66",
    "scrolled": true
   },
   "outputs": [
    {
     "data": {
      "text/plain": [
       "(887383, 75)"
      ]
     },
     "execution_count": 4,
     "metadata": {},
     "output_type": "execute_result"
    }
   ],
   "source": [
    "df.shape"
   ]
  },
  {
   "cell_type": "markdown",
   "metadata": {
    "_uuid": "2bffa6c7b34b2d574f82d52cca6d5e0a5e692369"
   },
   "source": [
    "So, we've got a fair amount of columns that we need to understand. Knowing what the columns mean can help us a lot for feature engineering later on.\n",
    "\n",
    "---"
   ]
  },
  {
   "cell_type": "markdown",
   "metadata": {
    "_uuid": "04e82722ac0b7ffed24f3a1e0c175623e05852ba"
   },
   "source": [
    "# Understanding the data "
   ]
  },
  {
   "cell_type": "code",
   "execution_count": 5,
   "metadata": {
    "_uuid": "475d01087d4d657b6d5c6dd0e32939f4e6d41b33"
   },
   "outputs": [
    {
     "data": {
      "text/plain": [
       "Current                                                601781\n",
       "Fully Paid                                             207724\n",
       "Charged Off                                             45248\n",
       "Late (31-120 days)                                      11591\n",
       "Issued                                                   8460\n",
       "In Grace Period                                          6253\n",
       "Late (16-30 days)                                        2357\n",
       "Does not meet the credit policy. Status:Fully Paid       1988\n",
       "Default                                                  1219\n",
       "Does not meet the credit policy. Status:Charged Off       761\n",
       "Name: loan_status, dtype: int64"
      ]
     },
     "execution_count": 5,
     "metadata": {},
     "output_type": "execute_result"
    }
   ],
   "source": [
    "df.loan_status.value_counts()"
   ]
  },
  {
   "cell_type": "code",
   "execution_count": 6,
   "metadata": {
    "_uuid": "475d01087d4d657b6d5c6dd0e32939f4e6d41b33"
   },
   "outputs": [],
   "source": [
    "df = df.loc[df['loan_status'].isin(['Charged Off', 'Fully Paid', 'Default'])]"
   ]
  },
  {
   "cell_type": "code",
   "execution_count": 7,
   "metadata": {
    "_uuid": "475d01087d4d657b6d5c6dd0e32939f4e6d41b33"
   },
   "outputs": [
    {
     "data": {
      "text/plain": [
       "Fully Paid     207724\n",
       "Charged Off     45248\n",
       "Default          1219\n",
       "Name: loan_status, dtype: int64"
      ]
     },
     "execution_count": 7,
     "metadata": {},
     "output_type": "execute_result"
    }
   ],
   "source": [
    "df.loan_status.value_counts()"
   ]
  },
  {
   "cell_type": "markdown",
   "metadata": {
    "_uuid": "475d01087d4d657b6d5c6dd0e32939f4e6d41b33"
   },
   "source": [
    "First, let's check the description of the various column fields in the dataset."
   ]
  },
  {
   "cell_type": "code",
   "execution_count": 8,
   "metadata": {
    "_uuid": "70dda9027a21e7233c14fd2544eea26901a7019b",
    "scrolled": false
   },
   "outputs": [
    {
     "data": {
      "text/html": [
       "<style  type=\"text/css\" >\n",
       "    #T_6bd263ce_c477_11e8_8da9_90489af2cb25row0_col1 {\n",
       "            width:  1000px;\n",
       "        }    #T_6bd263ce_c477_11e8_8da9_90489af2cb25row1_col1 {\n",
       "            width:  1000px;\n",
       "        }    #T_6bd263ce_c477_11e8_8da9_90489af2cb25row2_col1 {\n",
       "            width:  1000px;\n",
       "        }    #T_6bd263ce_c477_11e8_8da9_90489af2cb25row3_col1 {\n",
       "            width:  1000px;\n",
       "        }    #T_6bd263ce_c477_11e8_8da9_90489af2cb25row4_col1 {\n",
       "            width:  1000px;\n",
       "        }    #T_6bd263ce_c477_11e8_8da9_90489af2cb25row5_col1 {\n",
       "            width:  1000px;\n",
       "        }    #T_6bd263ce_c477_11e8_8da9_90489af2cb25row6_col1 {\n",
       "            width:  1000px;\n",
       "        }    #T_6bd263ce_c477_11e8_8da9_90489af2cb25row7_col1 {\n",
       "            width:  1000px;\n",
       "        }    #T_6bd263ce_c477_11e8_8da9_90489af2cb25row8_col1 {\n",
       "            width:  1000px;\n",
       "        }    #T_6bd263ce_c477_11e8_8da9_90489af2cb25row9_col1 {\n",
       "            width:  1000px;\n",
       "        }    #T_6bd263ce_c477_11e8_8da9_90489af2cb25row10_col1 {\n",
       "            width:  1000px;\n",
       "        }    #T_6bd263ce_c477_11e8_8da9_90489af2cb25row11_col1 {\n",
       "            width:  1000px;\n",
       "        }    #T_6bd263ce_c477_11e8_8da9_90489af2cb25row12_col1 {\n",
       "            width:  1000px;\n",
       "        }    #T_6bd263ce_c477_11e8_8da9_90489af2cb25row13_col1 {\n",
       "            width:  1000px;\n",
       "        }    #T_6bd263ce_c477_11e8_8da9_90489af2cb25row14_col1 {\n",
       "            width:  1000px;\n",
       "        }    #T_6bd263ce_c477_11e8_8da9_90489af2cb25row15_col1 {\n",
       "            width:  1000px;\n",
       "        }    #T_6bd263ce_c477_11e8_8da9_90489af2cb25row16_col1 {\n",
       "            width:  1000px;\n",
       "        }    #T_6bd263ce_c477_11e8_8da9_90489af2cb25row17_col1 {\n",
       "            width:  1000px;\n",
       "        }    #T_6bd263ce_c477_11e8_8da9_90489af2cb25row18_col1 {\n",
       "            width:  1000px;\n",
       "        }    #T_6bd263ce_c477_11e8_8da9_90489af2cb25row19_col1 {\n",
       "            width:  1000px;\n",
       "        }    #T_6bd263ce_c477_11e8_8da9_90489af2cb25row20_col1 {\n",
       "            width:  1000px;\n",
       "        }    #T_6bd263ce_c477_11e8_8da9_90489af2cb25row21_col1 {\n",
       "            width:  1000px;\n",
       "        }    #T_6bd263ce_c477_11e8_8da9_90489af2cb25row22_col1 {\n",
       "            width:  1000px;\n",
       "        }    #T_6bd263ce_c477_11e8_8da9_90489af2cb25row23_col1 {\n",
       "            width:  1000px;\n",
       "        }    #T_6bd263ce_c477_11e8_8da9_90489af2cb25row24_col1 {\n",
       "            width:  1000px;\n",
       "        }    #T_6bd263ce_c477_11e8_8da9_90489af2cb25row25_col1 {\n",
       "            width:  1000px;\n",
       "        }    #T_6bd263ce_c477_11e8_8da9_90489af2cb25row26_col1 {\n",
       "            width:  1000px;\n",
       "        }    #T_6bd263ce_c477_11e8_8da9_90489af2cb25row27_col1 {\n",
       "            width:  1000px;\n",
       "        }    #T_6bd263ce_c477_11e8_8da9_90489af2cb25row28_col1 {\n",
       "            width:  1000px;\n",
       "        }    #T_6bd263ce_c477_11e8_8da9_90489af2cb25row29_col1 {\n",
       "            width:  1000px;\n",
       "        }    #T_6bd263ce_c477_11e8_8da9_90489af2cb25row30_col1 {\n",
       "            width:  1000px;\n",
       "        }    #T_6bd263ce_c477_11e8_8da9_90489af2cb25row31_col1 {\n",
       "            width:  1000px;\n",
       "        }    #T_6bd263ce_c477_11e8_8da9_90489af2cb25row32_col1 {\n",
       "            width:  1000px;\n",
       "        }    #T_6bd263ce_c477_11e8_8da9_90489af2cb25row33_col1 {\n",
       "            width:  1000px;\n",
       "        }    #T_6bd263ce_c477_11e8_8da9_90489af2cb25row34_col1 {\n",
       "            width:  1000px;\n",
       "        }    #T_6bd263ce_c477_11e8_8da9_90489af2cb25row35_col1 {\n",
       "            width:  1000px;\n",
       "        }    #T_6bd263ce_c477_11e8_8da9_90489af2cb25row36_col1 {\n",
       "            width:  1000px;\n",
       "        }    #T_6bd263ce_c477_11e8_8da9_90489af2cb25row37_col1 {\n",
       "            width:  1000px;\n",
       "        }    #T_6bd263ce_c477_11e8_8da9_90489af2cb25row38_col1 {\n",
       "            width:  1000px;\n",
       "        }    #T_6bd263ce_c477_11e8_8da9_90489af2cb25row39_col1 {\n",
       "            width:  1000px;\n",
       "        }    #T_6bd263ce_c477_11e8_8da9_90489af2cb25row40_col1 {\n",
       "            width:  1000px;\n",
       "        }    #T_6bd263ce_c477_11e8_8da9_90489af2cb25row41_col1 {\n",
       "            width:  1000px;\n",
       "        }    #T_6bd263ce_c477_11e8_8da9_90489af2cb25row42_col1 {\n",
       "            width:  1000px;\n",
       "        }    #T_6bd263ce_c477_11e8_8da9_90489af2cb25row43_col1 {\n",
       "            width:  1000px;\n",
       "        }    #T_6bd263ce_c477_11e8_8da9_90489af2cb25row44_col1 {\n",
       "            width:  1000px;\n",
       "        }    #T_6bd263ce_c477_11e8_8da9_90489af2cb25row45_col1 {\n",
       "            width:  1000px;\n",
       "        }    #T_6bd263ce_c477_11e8_8da9_90489af2cb25row46_col1 {\n",
       "            width:  1000px;\n",
       "        }    #T_6bd263ce_c477_11e8_8da9_90489af2cb25row47_col1 {\n",
       "            width:  1000px;\n",
       "        }    #T_6bd263ce_c477_11e8_8da9_90489af2cb25row48_col1 {\n",
       "            width:  1000px;\n",
       "        }    #T_6bd263ce_c477_11e8_8da9_90489af2cb25row49_col1 {\n",
       "            width:  1000px;\n",
       "        }    #T_6bd263ce_c477_11e8_8da9_90489af2cb25row50_col1 {\n",
       "            width:  1000px;\n",
       "        }    #T_6bd263ce_c477_11e8_8da9_90489af2cb25row51_col1 {\n",
       "            width:  1000px;\n",
       "        }    #T_6bd263ce_c477_11e8_8da9_90489af2cb25row52_col1 {\n",
       "            width:  1000px;\n",
       "        }    #T_6bd263ce_c477_11e8_8da9_90489af2cb25row53_col1 {\n",
       "            width:  1000px;\n",
       "        }    #T_6bd263ce_c477_11e8_8da9_90489af2cb25row54_col1 {\n",
       "            width:  1000px;\n",
       "        }    #T_6bd263ce_c477_11e8_8da9_90489af2cb25row55_col1 {\n",
       "            width:  1000px;\n",
       "        }    #T_6bd263ce_c477_11e8_8da9_90489af2cb25row56_col1 {\n",
       "            width:  1000px;\n",
       "        }    #T_6bd263ce_c477_11e8_8da9_90489af2cb25row57_col1 {\n",
       "            width:  1000px;\n",
       "        }    #T_6bd263ce_c477_11e8_8da9_90489af2cb25row58_col1 {\n",
       "            width:  1000px;\n",
       "        }    #T_6bd263ce_c477_11e8_8da9_90489af2cb25row59_col1 {\n",
       "            width:  1000px;\n",
       "        }    #T_6bd263ce_c477_11e8_8da9_90489af2cb25row60_col1 {\n",
       "            width:  1000px;\n",
       "        }    #T_6bd263ce_c477_11e8_8da9_90489af2cb25row61_col1 {\n",
       "            width:  1000px;\n",
       "        }    #T_6bd263ce_c477_11e8_8da9_90489af2cb25row62_col1 {\n",
       "            width:  1000px;\n",
       "        }    #T_6bd263ce_c477_11e8_8da9_90489af2cb25row63_col1 {\n",
       "            width:  1000px;\n",
       "        }    #T_6bd263ce_c477_11e8_8da9_90489af2cb25row64_col1 {\n",
       "            width:  1000px;\n",
       "        }    #T_6bd263ce_c477_11e8_8da9_90489af2cb25row65_col1 {\n",
       "            width:  1000px;\n",
       "        }    #T_6bd263ce_c477_11e8_8da9_90489af2cb25row66_col1 {\n",
       "            width:  1000px;\n",
       "        }    #T_6bd263ce_c477_11e8_8da9_90489af2cb25row67_col1 {\n",
       "            width:  1000px;\n",
       "        }    #T_6bd263ce_c477_11e8_8da9_90489af2cb25row68_col1 {\n",
       "            width:  1000px;\n",
       "        }    #T_6bd263ce_c477_11e8_8da9_90489af2cb25row69_col1 {\n",
       "            width:  1000px;\n",
       "        }    #T_6bd263ce_c477_11e8_8da9_90489af2cb25row70_col1 {\n",
       "            width:  1000px;\n",
       "        }    #T_6bd263ce_c477_11e8_8da9_90489af2cb25row71_col1 {\n",
       "            width:  1000px;\n",
       "        }    #T_6bd263ce_c477_11e8_8da9_90489af2cb25row72_col1 {\n",
       "            width:  1000px;\n",
       "        }    #T_6bd263ce_c477_11e8_8da9_90489af2cb25row73_col1 {\n",
       "            width:  1000px;\n",
       "        }    #T_6bd263ce_c477_11e8_8da9_90489af2cb25row74_col1 {\n",
       "            width:  1000px;\n",
       "        }    #T_6bd263ce_c477_11e8_8da9_90489af2cb25row75_col1 {\n",
       "            width:  1000px;\n",
       "        }    #T_6bd263ce_c477_11e8_8da9_90489af2cb25row76_col1 {\n",
       "            width:  1000px;\n",
       "        }    #T_6bd263ce_c477_11e8_8da9_90489af2cb25row77_col1 {\n",
       "            width:  1000px;\n",
       "        }</style>  \n",
       "<table id=\"T_6bd263ce_c477_11e8_8da9_90489af2cb25\" > \n",
       "<thead>    <tr> \n",
       "        <th class=\"blank level0\" ></th> \n",
       "        <th class=\"col_heading level0 col0\" >LoanStatNew</th> \n",
       "        <th class=\"col_heading level0 col1\" >Description</th> \n",
       "    </tr></thead> \n",
       "<tbody>    <tr> \n",
       "        <th id=\"T_6bd263ce_c477_11e8_8da9_90489af2cb25level0_row0\" class=\"row_heading level0 row0\" >0</th> \n",
       "        <td id=\"T_6bd263ce_c477_11e8_8da9_90489af2cb25row0_col0\" class=\"data row0 col0\" >addr_state</td> \n",
       "        <td id=\"T_6bd263ce_c477_11e8_8da9_90489af2cb25row0_col1\" class=\"data row0 col1\" >The state provided by the borrower in the loan application</td> \n",
       "    </tr>    <tr> \n",
       "        <th id=\"T_6bd263ce_c477_11e8_8da9_90489af2cb25level0_row1\" class=\"row_heading level0 row1\" >1</th> \n",
       "        <td id=\"T_6bd263ce_c477_11e8_8da9_90489af2cb25row1_col0\" class=\"data row1 col0\" >annual_inc</td> \n",
       "        <td id=\"T_6bd263ce_c477_11e8_8da9_90489af2cb25row1_col1\" class=\"data row1 col1\" >The self-reported annual income provided by the borrower during registration.</td> \n",
       "    </tr>    <tr> \n",
       "        <th id=\"T_6bd263ce_c477_11e8_8da9_90489af2cb25level0_row2\" class=\"row_heading level0 row2\" >2</th> \n",
       "        <td id=\"T_6bd263ce_c477_11e8_8da9_90489af2cb25row2_col0\" class=\"data row2 col0\" >annual_inc_joint</td> \n",
       "        <td id=\"T_6bd263ce_c477_11e8_8da9_90489af2cb25row2_col1\" class=\"data row2 col1\" >The combined self-reported annual income provided by the co-borrowers during registration</td> \n",
       "    </tr>    <tr> \n",
       "        <th id=\"T_6bd263ce_c477_11e8_8da9_90489af2cb25level0_row3\" class=\"row_heading level0 row3\" >3</th> \n",
       "        <td id=\"T_6bd263ce_c477_11e8_8da9_90489af2cb25row3_col0\" class=\"data row3 col0\" >application_type</td> \n",
       "        <td id=\"T_6bd263ce_c477_11e8_8da9_90489af2cb25row3_col1\" class=\"data row3 col1\" >Indicates whether the loan is an individual application or a joint application with two co-borrowers</td> \n",
       "    </tr>    <tr> \n",
       "        <th id=\"T_6bd263ce_c477_11e8_8da9_90489af2cb25level0_row4\" class=\"row_heading level0 row4\" >4</th> \n",
       "        <td id=\"T_6bd263ce_c477_11e8_8da9_90489af2cb25row4_col0\" class=\"data row4 col0\" >collection_recovery_fee</td> \n",
       "        <td id=\"T_6bd263ce_c477_11e8_8da9_90489af2cb25row4_col1\" class=\"data row4 col1\" >post charge off collection fee</td> \n",
       "    </tr>    <tr> \n",
       "        <th id=\"T_6bd263ce_c477_11e8_8da9_90489af2cb25level0_row5\" class=\"row_heading level0 row5\" >5</th> \n",
       "        <td id=\"T_6bd263ce_c477_11e8_8da9_90489af2cb25row5_col0\" class=\"data row5 col0\" >collections_12_mths_ex_med</td> \n",
       "        <td id=\"T_6bd263ce_c477_11e8_8da9_90489af2cb25row5_col1\" class=\"data row5 col1\" >Number of collections in 12 months excluding medical collections</td> \n",
       "    </tr>    <tr> \n",
       "        <th id=\"T_6bd263ce_c477_11e8_8da9_90489af2cb25level0_row6\" class=\"row_heading level0 row6\" >6</th> \n",
       "        <td id=\"T_6bd263ce_c477_11e8_8da9_90489af2cb25row6_col0\" class=\"data row6 col0\" >delinq_2yrs</td> \n",
       "        <td id=\"T_6bd263ce_c477_11e8_8da9_90489af2cb25row6_col1\" class=\"data row6 col1\" >The number of 30+ days past-due incidences of delinquency in the borrower's credit file for the past 2 years</td> \n",
       "    </tr>    <tr> \n",
       "        <th id=\"T_6bd263ce_c477_11e8_8da9_90489af2cb25level0_row7\" class=\"row_heading level0 row7\" >7</th> \n",
       "        <td id=\"T_6bd263ce_c477_11e8_8da9_90489af2cb25row7_col0\" class=\"data row7 col0\" >desc</td> \n",
       "        <td id=\"T_6bd263ce_c477_11e8_8da9_90489af2cb25row7_col1\" class=\"data row7 col1\" >Loan description provided by the borrower</td> \n",
       "    </tr>    <tr> \n",
       "        <th id=\"T_6bd263ce_c477_11e8_8da9_90489af2cb25level0_row8\" class=\"row_heading level0 row8\" >8</th> \n",
       "        <td id=\"T_6bd263ce_c477_11e8_8da9_90489af2cb25row8_col0\" class=\"data row8 col0\" >dti</td> \n",
       "        <td id=\"T_6bd263ce_c477_11e8_8da9_90489af2cb25row8_col1\" class=\"data row8 col1\" >A ratio calculated using the borrower’s total monthly debt payments on the total debt obligations, excluding mortgage and the requested LC loan, divided by the borrower’s self-reported monthly income.</td> \n",
       "    </tr>    <tr> \n",
       "        <th id=\"T_6bd263ce_c477_11e8_8da9_90489af2cb25level0_row9\" class=\"row_heading level0 row9\" >9</th> \n",
       "        <td id=\"T_6bd263ce_c477_11e8_8da9_90489af2cb25row9_col0\" class=\"data row9 col0\" >dti_joint</td> \n",
       "        <td id=\"T_6bd263ce_c477_11e8_8da9_90489af2cb25row9_col1\" class=\"data row9 col1\" >A ratio calculated using the co-borrowers' total monthly payments on the total debt obligations, excluding mortgages and the requested LC loan, divided by the co-borrowers' combined self-reported monthly income</td> \n",
       "    </tr>    <tr> \n",
       "        <th id=\"T_6bd263ce_c477_11e8_8da9_90489af2cb25level0_row10\" class=\"row_heading level0 row10\" >10</th> \n",
       "        <td id=\"T_6bd263ce_c477_11e8_8da9_90489af2cb25row10_col0\" class=\"data row10 col0\" >earliest_cr_line</td> \n",
       "        <td id=\"T_6bd263ce_c477_11e8_8da9_90489af2cb25row10_col1\" class=\"data row10 col1\" >The month the borrower's earliest reported credit line was opened</td> \n",
       "    </tr>    <tr> \n",
       "        <th id=\"T_6bd263ce_c477_11e8_8da9_90489af2cb25level0_row11\" class=\"row_heading level0 row11\" >11</th> \n",
       "        <td id=\"T_6bd263ce_c477_11e8_8da9_90489af2cb25row11_col0\" class=\"data row11 col0\" >emp_length</td> \n",
       "        <td id=\"T_6bd263ce_c477_11e8_8da9_90489af2cb25row11_col1\" class=\"data row11 col1\" >Employment length in years. Possible values are between 0 and 10 where 0 means less than one year and 10 means ten or more years. </td> \n",
       "    </tr>    <tr> \n",
       "        <th id=\"T_6bd263ce_c477_11e8_8da9_90489af2cb25level0_row12\" class=\"row_heading level0 row12\" >12</th> \n",
       "        <td id=\"T_6bd263ce_c477_11e8_8da9_90489af2cb25row12_col0\" class=\"data row12 col0\" >emp_title</td> \n",
       "        <td id=\"T_6bd263ce_c477_11e8_8da9_90489af2cb25row12_col1\" class=\"data row12 col1\" >The job title supplied by the Borrower when applying for the loan.*</td> \n",
       "    </tr>    <tr> \n",
       "        <th id=\"T_6bd263ce_c477_11e8_8da9_90489af2cb25level0_row13\" class=\"row_heading level0 row13\" >13</th> \n",
       "        <td id=\"T_6bd263ce_c477_11e8_8da9_90489af2cb25row13_col0\" class=\"data row13 col0\" >fico_range_high</td> \n",
       "        <td id=\"T_6bd263ce_c477_11e8_8da9_90489af2cb25row13_col1\" class=\"data row13 col1\" >The upper boundary range the borrower’s FICO at loan origination belongs to.</td> \n",
       "    </tr>    <tr> \n",
       "        <th id=\"T_6bd263ce_c477_11e8_8da9_90489af2cb25level0_row14\" class=\"row_heading level0 row14\" >14</th> \n",
       "        <td id=\"T_6bd263ce_c477_11e8_8da9_90489af2cb25row14_col0\" class=\"data row14 col0\" >fico_range_low</td> \n",
       "        <td id=\"T_6bd263ce_c477_11e8_8da9_90489af2cb25row14_col1\" class=\"data row14 col1\" >The lower boundary range the borrower’s FICO at loan origination belongs to.</td> \n",
       "    </tr>    <tr> \n",
       "        <th id=\"T_6bd263ce_c477_11e8_8da9_90489af2cb25level0_row15\" class=\"row_heading level0 row15\" >15</th> \n",
       "        <td id=\"T_6bd263ce_c477_11e8_8da9_90489af2cb25row15_col0\" class=\"data row15 col0\" >funded_amnt</td> \n",
       "        <td id=\"T_6bd263ce_c477_11e8_8da9_90489af2cb25row15_col1\" class=\"data row15 col1\" >The total amount committed to that loan at that point in time.</td> \n",
       "    </tr>    <tr> \n",
       "        <th id=\"T_6bd263ce_c477_11e8_8da9_90489af2cb25level0_row16\" class=\"row_heading level0 row16\" >16</th> \n",
       "        <td id=\"T_6bd263ce_c477_11e8_8da9_90489af2cb25row16_col0\" class=\"data row16 col0\" >funded_amnt_inv</td> \n",
       "        <td id=\"T_6bd263ce_c477_11e8_8da9_90489af2cb25row16_col1\" class=\"data row16 col1\" >The total amount committed by investors for that loan at that point in time.</td> \n",
       "    </tr>    <tr> \n",
       "        <th id=\"T_6bd263ce_c477_11e8_8da9_90489af2cb25level0_row17\" class=\"row_heading level0 row17\" >17</th> \n",
       "        <td id=\"T_6bd263ce_c477_11e8_8da9_90489af2cb25row17_col0\" class=\"data row17 col0\" >grade</td> \n",
       "        <td id=\"T_6bd263ce_c477_11e8_8da9_90489af2cb25row17_col1\" class=\"data row17 col1\" >LC assigned loan grade</td> \n",
       "    </tr>    <tr> \n",
       "        <th id=\"T_6bd263ce_c477_11e8_8da9_90489af2cb25level0_row18\" class=\"row_heading level0 row18\" >18</th> \n",
       "        <td id=\"T_6bd263ce_c477_11e8_8da9_90489af2cb25row18_col0\" class=\"data row18 col0\" >home_ownership</td> \n",
       "        <td id=\"T_6bd263ce_c477_11e8_8da9_90489af2cb25row18_col1\" class=\"data row18 col1\" >The home ownership status provided by the borrower during registration. Our values are: RENT, OWN, MORTGAGE, OTHER.</td> \n",
       "    </tr>    <tr> \n",
       "        <th id=\"T_6bd263ce_c477_11e8_8da9_90489af2cb25level0_row19\" class=\"row_heading level0 row19\" >19</th> \n",
       "        <td id=\"T_6bd263ce_c477_11e8_8da9_90489af2cb25row19_col0\" class=\"data row19 col0\" >id</td> \n",
       "        <td id=\"T_6bd263ce_c477_11e8_8da9_90489af2cb25row19_col1\" class=\"data row19 col1\" >A unique LC assigned ID for the loan listing.</td> \n",
       "    </tr>    <tr> \n",
       "        <th id=\"T_6bd263ce_c477_11e8_8da9_90489af2cb25level0_row20\" class=\"row_heading level0 row20\" >20</th> \n",
       "        <td id=\"T_6bd263ce_c477_11e8_8da9_90489af2cb25row20_col0\" class=\"data row20 col0\" >initial_list_status</td> \n",
       "        <td id=\"T_6bd263ce_c477_11e8_8da9_90489af2cb25row20_col1\" class=\"data row20 col1\" >The initial listing status of the loan. Possible values are – W, F</td> \n",
       "    </tr>    <tr> \n",
       "        <th id=\"T_6bd263ce_c477_11e8_8da9_90489af2cb25level0_row21\" class=\"row_heading level0 row21\" >21</th> \n",
       "        <td id=\"T_6bd263ce_c477_11e8_8da9_90489af2cb25row21_col0\" class=\"data row21 col0\" >inq_last_6mths</td> \n",
       "        <td id=\"T_6bd263ce_c477_11e8_8da9_90489af2cb25row21_col1\" class=\"data row21 col1\" >The number of inquiries in past 6 months (excluding auto and mortgage inquiries)</td> \n",
       "    </tr>    <tr> \n",
       "        <th id=\"T_6bd263ce_c477_11e8_8da9_90489af2cb25level0_row22\" class=\"row_heading level0 row22\" >22</th> \n",
       "        <td id=\"T_6bd263ce_c477_11e8_8da9_90489af2cb25row22_col0\" class=\"data row22 col0\" >installment</td> \n",
       "        <td id=\"T_6bd263ce_c477_11e8_8da9_90489af2cb25row22_col1\" class=\"data row22 col1\" >The monthly payment owed by the borrower if the loan originates.</td> \n",
       "    </tr>    <tr> \n",
       "        <th id=\"T_6bd263ce_c477_11e8_8da9_90489af2cb25level0_row23\" class=\"row_heading level0 row23\" >23</th> \n",
       "        <td id=\"T_6bd263ce_c477_11e8_8da9_90489af2cb25row23_col0\" class=\"data row23 col0\" >int_rate</td> \n",
       "        <td id=\"T_6bd263ce_c477_11e8_8da9_90489af2cb25row23_col1\" class=\"data row23 col1\" >Interest Rate on the loan</td> \n",
       "    </tr>    <tr> \n",
       "        <th id=\"T_6bd263ce_c477_11e8_8da9_90489af2cb25level0_row24\" class=\"row_heading level0 row24\" >24</th> \n",
       "        <td id=\"T_6bd263ce_c477_11e8_8da9_90489af2cb25row24_col0\" class=\"data row24 col0\" >is_inc_v</td> \n",
       "        <td id=\"T_6bd263ce_c477_11e8_8da9_90489af2cb25row24_col1\" class=\"data row24 col1\" >Indicates if income was verified by LC, not verified, or if the income source was verified</td> \n",
       "    </tr>    <tr> \n",
       "        <th id=\"T_6bd263ce_c477_11e8_8da9_90489af2cb25level0_row25\" class=\"row_heading level0 row25\" >25</th> \n",
       "        <td id=\"T_6bd263ce_c477_11e8_8da9_90489af2cb25row25_col0\" class=\"data row25 col0\" >issue_d</td> \n",
       "        <td id=\"T_6bd263ce_c477_11e8_8da9_90489af2cb25row25_col1\" class=\"data row25 col1\" >The month which the loan was funded</td> \n",
       "    </tr>    <tr> \n",
       "        <th id=\"T_6bd263ce_c477_11e8_8da9_90489af2cb25level0_row26\" class=\"row_heading level0 row26\" >26</th> \n",
       "        <td id=\"T_6bd263ce_c477_11e8_8da9_90489af2cb25row26_col0\" class=\"data row26 col0\" >last_credit_pull_d</td> \n",
       "        <td id=\"T_6bd263ce_c477_11e8_8da9_90489af2cb25row26_col1\" class=\"data row26 col1\" >The most recent month LC pulled credit for this loan</td> \n",
       "    </tr>    <tr> \n",
       "        <th id=\"T_6bd263ce_c477_11e8_8da9_90489af2cb25level0_row27\" class=\"row_heading level0 row27\" >27</th> \n",
       "        <td id=\"T_6bd263ce_c477_11e8_8da9_90489af2cb25row27_col0\" class=\"data row27 col0\" >last_fico_range_high</td> \n",
       "        <td id=\"T_6bd263ce_c477_11e8_8da9_90489af2cb25row27_col1\" class=\"data row27 col1\" >The upper boundary range the borrower’s last FICO pulled belongs to.</td> \n",
       "    </tr>    <tr> \n",
       "        <th id=\"T_6bd263ce_c477_11e8_8da9_90489af2cb25level0_row28\" class=\"row_heading level0 row28\" >28</th> \n",
       "        <td id=\"T_6bd263ce_c477_11e8_8da9_90489af2cb25row28_col0\" class=\"data row28 col0\" >last_fico_range_low</td> \n",
       "        <td id=\"T_6bd263ce_c477_11e8_8da9_90489af2cb25row28_col1\" class=\"data row28 col1\" >The lower boundary range the borrower’s last FICO pulled belongs to.</td> \n",
       "    </tr>    <tr> \n",
       "        <th id=\"T_6bd263ce_c477_11e8_8da9_90489af2cb25level0_row29\" class=\"row_heading level0 row29\" >29</th> \n",
       "        <td id=\"T_6bd263ce_c477_11e8_8da9_90489af2cb25row29_col0\" class=\"data row29 col0\" >last_pymnt_amnt</td> \n",
       "        <td id=\"T_6bd263ce_c477_11e8_8da9_90489af2cb25row29_col1\" class=\"data row29 col1\" >Last total payment amount received</td> \n",
       "    </tr>    <tr> \n",
       "        <th id=\"T_6bd263ce_c477_11e8_8da9_90489af2cb25level0_row30\" class=\"row_heading level0 row30\" >30</th> \n",
       "        <td id=\"T_6bd263ce_c477_11e8_8da9_90489af2cb25row30_col0\" class=\"data row30 col0\" >last_pymnt_d</td> \n",
       "        <td id=\"T_6bd263ce_c477_11e8_8da9_90489af2cb25row30_col1\" class=\"data row30 col1\" >Last month payment was received</td> \n",
       "    </tr>    <tr> \n",
       "        <th id=\"T_6bd263ce_c477_11e8_8da9_90489af2cb25level0_row31\" class=\"row_heading level0 row31\" >31</th> \n",
       "        <td id=\"T_6bd263ce_c477_11e8_8da9_90489af2cb25row31_col0\" class=\"data row31 col0\" >loan_amnt</td> \n",
       "        <td id=\"T_6bd263ce_c477_11e8_8da9_90489af2cb25row31_col1\" class=\"data row31 col1\" >The listed amount of the loan applied for by the borrower. If at some point in time, the credit department reduces the loan amount, then it will be reflected in this value.</td> \n",
       "    </tr>    <tr> \n",
       "        <th id=\"T_6bd263ce_c477_11e8_8da9_90489af2cb25level0_row32\" class=\"row_heading level0 row32\" >32</th> \n",
       "        <td id=\"T_6bd263ce_c477_11e8_8da9_90489af2cb25row32_col0\" class=\"data row32 col0\" >loan_status</td> \n",
       "        <td id=\"T_6bd263ce_c477_11e8_8da9_90489af2cb25row32_col1\" class=\"data row32 col1\" >Current status of the loan</td> \n",
       "    </tr>    <tr> \n",
       "        <th id=\"T_6bd263ce_c477_11e8_8da9_90489af2cb25level0_row33\" class=\"row_heading level0 row33\" >33</th> \n",
       "        <td id=\"T_6bd263ce_c477_11e8_8da9_90489af2cb25row33_col0\" class=\"data row33 col0\" >member_id</td> \n",
       "        <td id=\"T_6bd263ce_c477_11e8_8da9_90489af2cb25row33_col1\" class=\"data row33 col1\" >A unique LC assigned Id for the borrower member.</td> \n",
       "    </tr>    <tr> \n",
       "        <th id=\"T_6bd263ce_c477_11e8_8da9_90489af2cb25level0_row34\" class=\"row_heading level0 row34\" >34</th> \n",
       "        <td id=\"T_6bd263ce_c477_11e8_8da9_90489af2cb25row34_col0\" class=\"data row34 col0\" >mths_since_last_delinq</td> \n",
       "        <td id=\"T_6bd263ce_c477_11e8_8da9_90489af2cb25row34_col1\" class=\"data row34 col1\" >The number of months since the borrower's last delinquency.</td> \n",
       "    </tr>    <tr> \n",
       "        <th id=\"T_6bd263ce_c477_11e8_8da9_90489af2cb25level0_row35\" class=\"row_heading level0 row35\" >35</th> \n",
       "        <td id=\"T_6bd263ce_c477_11e8_8da9_90489af2cb25row35_col0\" class=\"data row35 col0\" >mths_since_last_major_derog</td> \n",
       "        <td id=\"T_6bd263ce_c477_11e8_8da9_90489af2cb25row35_col1\" class=\"data row35 col1\" >Months since most recent 90-day or worse rating</td> \n",
       "    </tr>    <tr> \n",
       "        <th id=\"T_6bd263ce_c477_11e8_8da9_90489af2cb25level0_row36\" class=\"row_heading level0 row36\" >36</th> \n",
       "        <td id=\"T_6bd263ce_c477_11e8_8da9_90489af2cb25row36_col0\" class=\"data row36 col0\" >mths_since_last_record</td> \n",
       "        <td id=\"T_6bd263ce_c477_11e8_8da9_90489af2cb25row36_col1\" class=\"data row36 col1\" >The number of months since the last public record.</td> \n",
       "    </tr>    <tr> \n",
       "        <th id=\"T_6bd263ce_c477_11e8_8da9_90489af2cb25level0_row37\" class=\"row_heading level0 row37\" >37</th> \n",
       "        <td id=\"T_6bd263ce_c477_11e8_8da9_90489af2cb25row37_col0\" class=\"data row37 col0\" >next_pymnt_d</td> \n",
       "        <td id=\"T_6bd263ce_c477_11e8_8da9_90489af2cb25row37_col1\" class=\"data row37 col1\" >Next scheduled payment date</td> \n",
       "    </tr>    <tr> \n",
       "        <th id=\"T_6bd263ce_c477_11e8_8da9_90489af2cb25level0_row38\" class=\"row_heading level0 row38\" >38</th> \n",
       "        <td id=\"T_6bd263ce_c477_11e8_8da9_90489af2cb25row38_col0\" class=\"data row38 col0\" >open_acc</td> \n",
       "        <td id=\"T_6bd263ce_c477_11e8_8da9_90489af2cb25row38_col1\" class=\"data row38 col1\" >The number of open credit lines in the borrower's credit file.</td> \n",
       "    </tr>    <tr> \n",
       "        <th id=\"T_6bd263ce_c477_11e8_8da9_90489af2cb25level0_row39\" class=\"row_heading level0 row39\" >39</th> \n",
       "        <td id=\"T_6bd263ce_c477_11e8_8da9_90489af2cb25row39_col0\" class=\"data row39 col0\" >out_prncp</td> \n",
       "        <td id=\"T_6bd263ce_c477_11e8_8da9_90489af2cb25row39_col1\" class=\"data row39 col1\" >Remaining outstanding principal for total amount funded</td> \n",
       "    </tr>    <tr> \n",
       "        <th id=\"T_6bd263ce_c477_11e8_8da9_90489af2cb25level0_row40\" class=\"row_heading level0 row40\" >40</th> \n",
       "        <td id=\"T_6bd263ce_c477_11e8_8da9_90489af2cb25row40_col0\" class=\"data row40 col0\" >out_prncp_inv</td> \n",
       "        <td id=\"T_6bd263ce_c477_11e8_8da9_90489af2cb25row40_col1\" class=\"data row40 col1\" >Remaining outstanding principal for portion of total amount funded by investors</td> \n",
       "    </tr>    <tr> \n",
       "        <th id=\"T_6bd263ce_c477_11e8_8da9_90489af2cb25level0_row41\" class=\"row_heading level0 row41\" >41</th> \n",
       "        <td id=\"T_6bd263ce_c477_11e8_8da9_90489af2cb25row41_col0\" class=\"data row41 col0\" >policy_code</td> \n",
       "        <td id=\"T_6bd263ce_c477_11e8_8da9_90489af2cb25row41_col1\" class=\"data row41 col1\" >publicly available policy_code=1\n",
       "new products not publicly available policy_code=2</td> \n",
       "    </tr>    <tr> \n",
       "        <th id=\"T_6bd263ce_c477_11e8_8da9_90489af2cb25level0_row42\" class=\"row_heading level0 row42\" >42</th> \n",
       "        <td id=\"T_6bd263ce_c477_11e8_8da9_90489af2cb25row42_col0\" class=\"data row42 col0\" >pub_rec</td> \n",
       "        <td id=\"T_6bd263ce_c477_11e8_8da9_90489af2cb25row42_col1\" class=\"data row42 col1\" >Number of derogatory public records</td> \n",
       "    </tr>    <tr> \n",
       "        <th id=\"T_6bd263ce_c477_11e8_8da9_90489af2cb25level0_row43\" class=\"row_heading level0 row43\" >43</th> \n",
       "        <td id=\"T_6bd263ce_c477_11e8_8da9_90489af2cb25row43_col0\" class=\"data row43 col0\" >purpose</td> \n",
       "        <td id=\"T_6bd263ce_c477_11e8_8da9_90489af2cb25row43_col1\" class=\"data row43 col1\" >A category provided by the borrower for the loan request. </td> \n",
       "    </tr>    <tr> \n",
       "        <th id=\"T_6bd263ce_c477_11e8_8da9_90489af2cb25level0_row44\" class=\"row_heading level0 row44\" >44</th> \n",
       "        <td id=\"T_6bd263ce_c477_11e8_8da9_90489af2cb25row44_col0\" class=\"data row44 col0\" >pymnt_plan</td> \n",
       "        <td id=\"T_6bd263ce_c477_11e8_8da9_90489af2cb25row44_col1\" class=\"data row44 col1\" >Indicates if a payment plan has been put in place for the loan</td> \n",
       "    </tr>    <tr> \n",
       "        <th id=\"T_6bd263ce_c477_11e8_8da9_90489af2cb25level0_row45\" class=\"row_heading level0 row45\" >45</th> \n",
       "        <td id=\"T_6bd263ce_c477_11e8_8da9_90489af2cb25row45_col0\" class=\"data row45 col0\" >recoveries</td> \n",
       "        <td id=\"T_6bd263ce_c477_11e8_8da9_90489af2cb25row45_col1\" class=\"data row45 col1\" >post charge off gross recovery</td> \n",
       "    </tr>    <tr> \n",
       "        <th id=\"T_6bd263ce_c477_11e8_8da9_90489af2cb25level0_row46\" class=\"row_heading level0 row46\" >46</th> \n",
       "        <td id=\"T_6bd263ce_c477_11e8_8da9_90489af2cb25row46_col0\" class=\"data row46 col0\" >revol_bal</td> \n",
       "        <td id=\"T_6bd263ce_c477_11e8_8da9_90489af2cb25row46_col1\" class=\"data row46 col1\" >Total credit revolving balance</td> \n",
       "    </tr>    <tr> \n",
       "        <th id=\"T_6bd263ce_c477_11e8_8da9_90489af2cb25level0_row47\" class=\"row_heading level0 row47\" >47</th> \n",
       "        <td id=\"T_6bd263ce_c477_11e8_8da9_90489af2cb25row47_col0\" class=\"data row47 col0\" >revol_util</td> \n",
       "        <td id=\"T_6bd263ce_c477_11e8_8da9_90489af2cb25row47_col1\" class=\"data row47 col1\" >Revolving line utilization rate, or the amount of credit the borrower is using relative to all available revolving credit.</td> \n",
       "    </tr>    <tr> \n",
       "        <th id=\"T_6bd263ce_c477_11e8_8da9_90489af2cb25level0_row48\" class=\"row_heading level0 row48\" >48</th> \n",
       "        <td id=\"T_6bd263ce_c477_11e8_8da9_90489af2cb25row48_col0\" class=\"data row48 col0\" >sub_grade</td> \n",
       "        <td id=\"T_6bd263ce_c477_11e8_8da9_90489af2cb25row48_col1\" class=\"data row48 col1\" >LC assigned loan subgrade</td> \n",
       "    </tr>    <tr> \n",
       "        <th id=\"T_6bd263ce_c477_11e8_8da9_90489af2cb25level0_row49\" class=\"row_heading level0 row49\" >49</th> \n",
       "        <td id=\"T_6bd263ce_c477_11e8_8da9_90489af2cb25row49_col0\" class=\"data row49 col0\" >term</td> \n",
       "        <td id=\"T_6bd263ce_c477_11e8_8da9_90489af2cb25row49_col1\" class=\"data row49 col1\" >The number of payments on the loan. Values are in months and can be either 36 or 60.</td> \n",
       "    </tr>    <tr> \n",
       "        <th id=\"T_6bd263ce_c477_11e8_8da9_90489af2cb25level0_row50\" class=\"row_heading level0 row50\" >50</th> \n",
       "        <td id=\"T_6bd263ce_c477_11e8_8da9_90489af2cb25row50_col0\" class=\"data row50 col0\" >title</td> \n",
       "        <td id=\"T_6bd263ce_c477_11e8_8da9_90489af2cb25row50_col1\" class=\"data row50 col1\" >The loan title provided by the borrower</td> \n",
       "    </tr>    <tr> \n",
       "        <th id=\"T_6bd263ce_c477_11e8_8da9_90489af2cb25level0_row51\" class=\"row_heading level0 row51\" >51</th> \n",
       "        <td id=\"T_6bd263ce_c477_11e8_8da9_90489af2cb25row51_col0\" class=\"data row51 col0\" >total_acc</td> \n",
       "        <td id=\"T_6bd263ce_c477_11e8_8da9_90489af2cb25row51_col1\" class=\"data row51 col1\" >The total number of credit lines currently in the borrower's credit file</td> \n",
       "    </tr>    <tr> \n",
       "        <th id=\"T_6bd263ce_c477_11e8_8da9_90489af2cb25level0_row52\" class=\"row_heading level0 row52\" >52</th> \n",
       "        <td id=\"T_6bd263ce_c477_11e8_8da9_90489af2cb25row52_col0\" class=\"data row52 col0\" >total_pymnt</td> \n",
       "        <td id=\"T_6bd263ce_c477_11e8_8da9_90489af2cb25row52_col1\" class=\"data row52 col1\" >Payments received to date for total amount funded</td> \n",
       "    </tr>    <tr> \n",
       "        <th id=\"T_6bd263ce_c477_11e8_8da9_90489af2cb25level0_row53\" class=\"row_heading level0 row53\" >53</th> \n",
       "        <td id=\"T_6bd263ce_c477_11e8_8da9_90489af2cb25row53_col0\" class=\"data row53 col0\" >total_pymnt_inv</td> \n",
       "        <td id=\"T_6bd263ce_c477_11e8_8da9_90489af2cb25row53_col1\" class=\"data row53 col1\" >Payments received to date for portion of total amount funded by investors</td> \n",
       "    </tr>    <tr> \n",
       "        <th id=\"T_6bd263ce_c477_11e8_8da9_90489af2cb25level0_row54\" class=\"row_heading level0 row54\" >54</th> \n",
       "        <td id=\"T_6bd263ce_c477_11e8_8da9_90489af2cb25row54_col0\" class=\"data row54 col0\" >total_rec_int</td> \n",
       "        <td id=\"T_6bd263ce_c477_11e8_8da9_90489af2cb25row54_col1\" class=\"data row54 col1\" >Interest received to date</td> \n",
       "    </tr>    <tr> \n",
       "        <th id=\"T_6bd263ce_c477_11e8_8da9_90489af2cb25level0_row55\" class=\"row_heading level0 row55\" >55</th> \n",
       "        <td id=\"T_6bd263ce_c477_11e8_8da9_90489af2cb25row55_col0\" class=\"data row55 col0\" >total_rec_late_fee</td> \n",
       "        <td id=\"T_6bd263ce_c477_11e8_8da9_90489af2cb25row55_col1\" class=\"data row55 col1\" >Late fees received to date</td> \n",
       "    </tr>    <tr> \n",
       "        <th id=\"T_6bd263ce_c477_11e8_8da9_90489af2cb25level0_row56\" class=\"row_heading level0 row56\" >56</th> \n",
       "        <td id=\"T_6bd263ce_c477_11e8_8da9_90489af2cb25row56_col0\" class=\"data row56 col0\" >total_rec_prncp</td> \n",
       "        <td id=\"T_6bd263ce_c477_11e8_8da9_90489af2cb25row56_col1\" class=\"data row56 col1\" >Principal received to date</td> \n",
       "    </tr>    <tr> \n",
       "        <th id=\"T_6bd263ce_c477_11e8_8da9_90489af2cb25level0_row57\" class=\"row_heading level0 row57\" >57</th> \n",
       "        <td id=\"T_6bd263ce_c477_11e8_8da9_90489af2cb25row57_col0\" class=\"data row57 col0\" >url</td> \n",
       "        <td id=\"T_6bd263ce_c477_11e8_8da9_90489af2cb25row57_col1\" class=\"data row57 col1\" >URL for the LC page with listing data.</td> \n",
       "    </tr>    <tr> \n",
       "        <th id=\"T_6bd263ce_c477_11e8_8da9_90489af2cb25level0_row58\" class=\"row_heading level0 row58\" >58</th> \n",
       "        <td id=\"T_6bd263ce_c477_11e8_8da9_90489af2cb25row58_col0\" class=\"data row58 col0\" >verified_status_joint</td> \n",
       "        <td id=\"T_6bd263ce_c477_11e8_8da9_90489af2cb25row58_col1\" class=\"data row58 col1\" >Indicates if the co-borrowers' joint income was verified by LC, not verified, or if the income source was verified</td> \n",
       "    </tr>    <tr> \n",
       "        <th id=\"T_6bd263ce_c477_11e8_8da9_90489af2cb25level0_row59\" class=\"row_heading level0 row59\" >59</th> \n",
       "        <td id=\"T_6bd263ce_c477_11e8_8da9_90489af2cb25row59_col0\" class=\"data row59 col0\" >zip_code</td> \n",
       "        <td id=\"T_6bd263ce_c477_11e8_8da9_90489af2cb25row59_col1\" class=\"data row59 col1\" >The first 3 numbers of the zip code provided by the borrower in the loan application.</td> \n",
       "    </tr>    <tr> \n",
       "        <th id=\"T_6bd263ce_c477_11e8_8da9_90489af2cb25level0_row60\" class=\"row_heading level0 row60\" >60</th> \n",
       "        <td id=\"T_6bd263ce_c477_11e8_8da9_90489af2cb25row60_col0\" class=\"data row60 col0\" >open_acc_6m</td> \n",
       "        <td id=\"T_6bd263ce_c477_11e8_8da9_90489af2cb25row60_col1\" class=\"data row60 col1\" >Number of open trades in last 6 months</td> \n",
       "    </tr>    <tr> \n",
       "        <th id=\"T_6bd263ce_c477_11e8_8da9_90489af2cb25level0_row61\" class=\"row_heading level0 row61\" >61</th> \n",
       "        <td id=\"T_6bd263ce_c477_11e8_8da9_90489af2cb25row61_col0\" class=\"data row61 col0\" >open_il_6m</td> \n",
       "        <td id=\"T_6bd263ce_c477_11e8_8da9_90489af2cb25row61_col1\" class=\"data row61 col1\" >Number of currently active installment trades</td> \n",
       "    </tr>    <tr> \n",
       "        <th id=\"T_6bd263ce_c477_11e8_8da9_90489af2cb25level0_row62\" class=\"row_heading level0 row62\" >62</th> \n",
       "        <td id=\"T_6bd263ce_c477_11e8_8da9_90489af2cb25row62_col0\" class=\"data row62 col0\" >open_il_12m</td> \n",
       "        <td id=\"T_6bd263ce_c477_11e8_8da9_90489af2cb25row62_col1\" class=\"data row62 col1\" >Number of installment accounts opened in past 12 months</td> \n",
       "    </tr>    <tr> \n",
       "        <th id=\"T_6bd263ce_c477_11e8_8da9_90489af2cb25level0_row63\" class=\"row_heading level0 row63\" >63</th> \n",
       "        <td id=\"T_6bd263ce_c477_11e8_8da9_90489af2cb25row63_col0\" class=\"data row63 col0\" >open_il_24m</td> \n",
       "        <td id=\"T_6bd263ce_c477_11e8_8da9_90489af2cb25row63_col1\" class=\"data row63 col1\" >Number of installment accounts opened in past 24 months</td> \n",
       "    </tr>    <tr> \n",
       "        <th id=\"T_6bd263ce_c477_11e8_8da9_90489af2cb25level0_row64\" class=\"row_heading level0 row64\" >64</th> \n",
       "        <td id=\"T_6bd263ce_c477_11e8_8da9_90489af2cb25row64_col0\" class=\"data row64 col0\" >mths_since_rcnt_il</td> \n",
       "        <td id=\"T_6bd263ce_c477_11e8_8da9_90489af2cb25row64_col1\" class=\"data row64 col1\" >Months since most recent installment accounts opened</td> \n",
       "    </tr>    <tr> \n",
       "        <th id=\"T_6bd263ce_c477_11e8_8da9_90489af2cb25level0_row65\" class=\"row_heading level0 row65\" >65</th> \n",
       "        <td id=\"T_6bd263ce_c477_11e8_8da9_90489af2cb25row65_col0\" class=\"data row65 col0\" >total_bal_il</td> \n",
       "        <td id=\"T_6bd263ce_c477_11e8_8da9_90489af2cb25row65_col1\" class=\"data row65 col1\" >Total current balance of all installment accounts</td> \n",
       "    </tr>    <tr> \n",
       "        <th id=\"T_6bd263ce_c477_11e8_8da9_90489af2cb25level0_row66\" class=\"row_heading level0 row66\" >66</th> \n",
       "        <td id=\"T_6bd263ce_c477_11e8_8da9_90489af2cb25row66_col0\" class=\"data row66 col0\" >il_util</td> \n",
       "        <td id=\"T_6bd263ce_c477_11e8_8da9_90489af2cb25row66_col1\" class=\"data row66 col1\" >Ratio of total current balance to high credit/credit limit on all install acct</td> \n",
       "    </tr>    <tr> \n",
       "        <th id=\"T_6bd263ce_c477_11e8_8da9_90489af2cb25level0_row67\" class=\"row_heading level0 row67\" >67</th> \n",
       "        <td id=\"T_6bd263ce_c477_11e8_8da9_90489af2cb25row67_col0\" class=\"data row67 col0\" >open_rv_12m</td> \n",
       "        <td id=\"T_6bd263ce_c477_11e8_8da9_90489af2cb25row67_col1\" class=\"data row67 col1\" >Number of revolving trades opened in past 12 months</td> \n",
       "    </tr>    <tr> \n",
       "        <th id=\"T_6bd263ce_c477_11e8_8da9_90489af2cb25level0_row68\" class=\"row_heading level0 row68\" >68</th> \n",
       "        <td id=\"T_6bd263ce_c477_11e8_8da9_90489af2cb25row68_col0\" class=\"data row68 col0\" >open_rv_24m</td> \n",
       "        <td id=\"T_6bd263ce_c477_11e8_8da9_90489af2cb25row68_col1\" class=\"data row68 col1\" >Number of revolving trades opened in past 24 months</td> \n",
       "    </tr>    <tr> \n",
       "        <th id=\"T_6bd263ce_c477_11e8_8da9_90489af2cb25level0_row69\" class=\"row_heading level0 row69\" >69</th> \n",
       "        <td id=\"T_6bd263ce_c477_11e8_8da9_90489af2cb25row69_col0\" class=\"data row69 col0\" >max_bal_bc</td> \n",
       "        <td id=\"T_6bd263ce_c477_11e8_8da9_90489af2cb25row69_col1\" class=\"data row69 col1\" >Maximum current balance owed on all revolving accounts</td> \n",
       "    </tr>    <tr> \n",
       "        <th id=\"T_6bd263ce_c477_11e8_8da9_90489af2cb25level0_row70\" class=\"row_heading level0 row70\" >70</th> \n",
       "        <td id=\"T_6bd263ce_c477_11e8_8da9_90489af2cb25row70_col0\" class=\"data row70 col0\" >all_util</td> \n",
       "        <td id=\"T_6bd263ce_c477_11e8_8da9_90489af2cb25row70_col1\" class=\"data row70 col1\" >Balance to credit limit on all trades</td> \n",
       "    </tr>    <tr> \n",
       "        <th id=\"T_6bd263ce_c477_11e8_8da9_90489af2cb25level0_row71\" class=\"row_heading level0 row71\" >71</th> \n",
       "        <td id=\"T_6bd263ce_c477_11e8_8da9_90489af2cb25row71_col0\" class=\"data row71 col0\" >total_rev_hi_lim  </td> \n",
       "        <td id=\"T_6bd263ce_c477_11e8_8da9_90489af2cb25row71_col1\" class=\"data row71 col1\" >Total revolving high credit/credit limit</td> \n",
       "    </tr>    <tr> \n",
       "        <th id=\"T_6bd263ce_c477_11e8_8da9_90489af2cb25level0_row72\" class=\"row_heading level0 row72\" >72</th> \n",
       "        <td id=\"T_6bd263ce_c477_11e8_8da9_90489af2cb25row72_col0\" class=\"data row72 col0\" >inq_fi</td> \n",
       "        <td id=\"T_6bd263ce_c477_11e8_8da9_90489af2cb25row72_col1\" class=\"data row72 col1\" >Number of personal finance inquiries</td> \n",
       "    </tr>    <tr> \n",
       "        <th id=\"T_6bd263ce_c477_11e8_8da9_90489af2cb25level0_row73\" class=\"row_heading level0 row73\" >73</th> \n",
       "        <td id=\"T_6bd263ce_c477_11e8_8da9_90489af2cb25row73_col0\" class=\"data row73 col0\" >total_cu_tl</td> \n",
       "        <td id=\"T_6bd263ce_c477_11e8_8da9_90489af2cb25row73_col1\" class=\"data row73 col1\" >Number of finance trades</td> \n",
       "    </tr>    <tr> \n",
       "        <th id=\"T_6bd263ce_c477_11e8_8da9_90489af2cb25level0_row74\" class=\"row_heading level0 row74\" >74</th> \n",
       "        <td id=\"T_6bd263ce_c477_11e8_8da9_90489af2cb25row74_col0\" class=\"data row74 col0\" >inq_last_12m</td> \n",
       "        <td id=\"T_6bd263ce_c477_11e8_8da9_90489af2cb25row74_col1\" class=\"data row74 col1\" >Number of credit inquiries in past 12 months</td> \n",
       "    </tr>    <tr> \n",
       "        <th id=\"T_6bd263ce_c477_11e8_8da9_90489af2cb25level0_row75\" class=\"row_heading level0 row75\" >75</th> \n",
       "        <td id=\"T_6bd263ce_c477_11e8_8da9_90489af2cb25row75_col0\" class=\"data row75 col0\" >acc_now_delinq</td> \n",
       "        <td id=\"T_6bd263ce_c477_11e8_8da9_90489af2cb25row75_col1\" class=\"data row75 col1\" >The number of accounts on which the borrower is now delinquent.</td> \n",
       "    </tr>    <tr> \n",
       "        <th id=\"T_6bd263ce_c477_11e8_8da9_90489af2cb25level0_row76\" class=\"row_heading level0 row76\" >76</th> \n",
       "        <td id=\"T_6bd263ce_c477_11e8_8da9_90489af2cb25row76_col0\" class=\"data row76 col0\" >tot_coll_amt</td> \n",
       "        <td id=\"T_6bd263ce_c477_11e8_8da9_90489af2cb25row76_col1\" class=\"data row76 col1\" >Total collection amounts ever owed</td> \n",
       "    </tr>    <tr> \n",
       "        <th id=\"T_6bd263ce_c477_11e8_8da9_90489af2cb25level0_row77\" class=\"row_heading level0 row77\" >77</th> \n",
       "        <td id=\"T_6bd263ce_c477_11e8_8da9_90489af2cb25row77_col0\" class=\"data row77 col0\" >tot_cur_bal</td> \n",
       "        <td id=\"T_6bd263ce_c477_11e8_8da9_90489af2cb25row77_col1\" class=\"data row77 col1\" >Total current balance of all accounts</td> \n",
       "    </tr></tbody> \n",
       "</table> "
      ],
      "text/plain": [
       "<pandas.io.formats.style.Styler at 0x7fa881274a90>"
      ]
     },
     "execution_count": 8,
     "metadata": {},
     "output_type": "execute_result"
    }
   ],
   "source": [
    "df_description = pd.read_excel('./LCDataDictionary.xlsx').dropna()\n",
    "df_description.style.set_properties(subset=['Description'], **{'width': '1000px'})"
   ]
  },
  {
   "cell_type": "markdown",
   "metadata": {
    "_uuid": "62e7fa179d670f829abbf769bb0fe2d0e7595b11"
   },
   "source": [
    "> Looking at the columns description, a good thing we could do is find columns that carry importance and at the same time find columns that are redundant for their lack of information.\n",
    "\n",
    "\n",
    "Let us also see the number and percentage of missing values,"
   ]
  },
  {
   "cell_type": "markdown",
   "metadata": {
    "_uuid": "59d877770d94c6be172ae3f0ddeb7f87b3eba3f6"
   },
   "source": [
    "These columns either leak data or do not contribute towardsloan default prediction."
   ]
  },
  {
   "cell_type": "code",
   "execution_count": 9,
   "metadata": {
    "_uuid": "59d877770d94c6be172ae3f0ddeb7f87b3eba3f6"
   },
   "outputs": [],
   "source": [
    "drop_cols = [ 'zip_code','out_prncp','out_prncp_inv', 'title', 'desc', 'url',\n",
    "             'total_pymnt','total_pymnt_inv', 'total_rec_prncp','total_rec_int', 'total_rec_late_fee',\n",
    "             'recoveries', 'collection_recovery_fee', 'last_pymnt_d',\n",
    "             'last_pymnt_amnt', 'id','member_id','funded_amnt','funded_amnt_inv',\n",
    "             'emp_title','issue_d', 'index', 'addr_state']\n",
    "\n",
    "df.drop(drop_cols, axis=1, inplace=True)"
   ]
  },
  {
   "cell_type": "code",
   "execution_count": 10,
   "metadata": {
    "_uuid": "59d877770d94c6be172ae3f0ddeb7f87b3eba3f6"
   },
   "outputs": [
    {
     "data": {
      "text/plain": [
       "(254191, 53)"
      ]
     },
     "execution_count": 10,
     "metadata": {},
     "output_type": "execute_result"
    }
   ],
   "source": [
    "df.shape"
   ]
  },
  {
   "cell_type": "code",
   "execution_count": 11,
   "metadata": {
    "_uuid": "59d877770d94c6be172ae3f0ddeb7f87b3eba3f6"
   },
   "outputs": [],
   "source": [
    "def null_values(df):\n",
    "        mis_val = df.isnull().sum()\n",
    "        mis_val_percent = 100 * df.isnull().sum() / len(df)\n",
    "        mis_val_table = pd.concat([mis_val, mis_val_percent], axis=1)\n",
    "        mis_val_table_ren_columns = mis_val_table.rename(\n",
    "        columns = {0 : 'Missing Values', 1 : '% of Total Values'})\n",
    "        mis_val_table_ren_columns = mis_val_table_ren_columns[\n",
    "            mis_val_table_ren_columns.iloc[:,1] != 0].sort_values(\n",
    "        '% of Total Values', ascending=False).round(1)\n",
    "        print (\"Dataframe has \" + str(df.shape[1]) + \" columns.\\n\"      \n",
    "            \"There are \" + str(mis_val_table_ren_columns.shape[0]) +\n",
    "              \" columns that have missing values.\")\n",
    "        return mis_val_table_ren_columns"
   ]
  },
  {
   "cell_type": "code",
   "execution_count": 12,
   "metadata": {
    "_uuid": "c8edcf18e99512d419e17cb3d7b3a6e457549681",
    "scrolled": true
   },
   "outputs": [
    {
     "name": "stdout",
     "output_type": "stream",
     "text": [
      "Dataframe has 53 columns.\n",
      "There are 28 columns that have missing values.\n"
     ]
    },
    {
     "data": {
      "text/html": [
       "<div>\n",
       "<style scoped>\n",
       "    .dataframe tbody tr th:only-of-type {\n",
       "        vertical-align: middle;\n",
       "    }\n",
       "\n",
       "    .dataframe tbody tr th {\n",
       "        vertical-align: top;\n",
       "    }\n",
       "\n",
       "    .dataframe thead th {\n",
       "        text-align: right;\n",
       "    }\n",
       "</style>\n",
       "<table border=\"1\" class=\"dataframe\">\n",
       "  <thead>\n",
       "    <tr style=\"text-align: right;\">\n",
       "      <th></th>\n",
       "      <th>Missing Values</th>\n",
       "      <th>% of Total Values</th>\n",
       "    </tr>\n",
       "  </thead>\n",
       "  <tbody>\n",
       "    <tr>\n",
       "      <th>annual_inc_joint</th>\n",
       "      <td>254190</td>\n",
       "      <td>100.0</td>\n",
       "    </tr>\n",
       "    <tr>\n",
       "      <th>dti_joint</th>\n",
       "      <td>254190</td>\n",
       "      <td>100.0</td>\n",
       "    </tr>\n",
       "    <tr>\n",
       "      <th>verification_status_joint</th>\n",
       "      <td>254190</td>\n",
       "      <td>100.0</td>\n",
       "    </tr>\n",
       "    <tr>\n",
       "      <th>il_util</th>\n",
       "      <td>254065</td>\n",
       "      <td>100.0</td>\n",
       "    </tr>\n",
       "    <tr>\n",
       "      <th>mths_since_rcnt_il</th>\n",
       "      <td>254051</td>\n",
       "      <td>99.9</td>\n",
       "    </tr>\n",
       "    <tr>\n",
       "      <th>open_il_6m</th>\n",
       "      <td>254047</td>\n",
       "      <td>99.9</td>\n",
       "    </tr>\n",
       "    <tr>\n",
       "      <th>open_il_12m</th>\n",
       "      <td>254047</td>\n",
       "      <td>99.9</td>\n",
       "    </tr>\n",
       "    <tr>\n",
       "      <th>total_cu_tl</th>\n",
       "      <td>254047</td>\n",
       "      <td>99.9</td>\n",
       "    </tr>\n",
       "    <tr>\n",
       "      <th>inq_fi</th>\n",
       "      <td>254047</td>\n",
       "      <td>99.9</td>\n",
       "    </tr>\n",
       "    <tr>\n",
       "      <th>all_util</th>\n",
       "      <td>254047</td>\n",
       "      <td>99.9</td>\n",
       "    </tr>\n",
       "    <tr>\n",
       "      <th>max_bal_bc</th>\n",
       "      <td>254047</td>\n",
       "      <td>99.9</td>\n",
       "    </tr>\n",
       "    <tr>\n",
       "      <th>open_rv_24m</th>\n",
       "      <td>254047</td>\n",
       "      <td>99.9</td>\n",
       "    </tr>\n",
       "    <tr>\n",
       "      <th>open_rv_12m</th>\n",
       "      <td>254047</td>\n",
       "      <td>99.9</td>\n",
       "    </tr>\n",
       "    <tr>\n",
       "      <th>total_bal_il</th>\n",
       "      <td>254047</td>\n",
       "      <td>99.9</td>\n",
       "    </tr>\n",
       "    <tr>\n",
       "      <th>open_il_24m</th>\n",
       "      <td>254047</td>\n",
       "      <td>99.9</td>\n",
       "    </tr>\n",
       "    <tr>\n",
       "      <th>inq_last_12m</th>\n",
       "      <td>254047</td>\n",
       "      <td>99.9</td>\n",
       "    </tr>\n",
       "    <tr>\n",
       "      <th>open_acc_6m</th>\n",
       "      <td>254047</td>\n",
       "      <td>99.9</td>\n",
       "    </tr>\n",
       "    <tr>\n",
       "      <th>next_pymnt_d</th>\n",
       "      <td>252972</td>\n",
       "      <td>99.5</td>\n",
       "    </tr>\n",
       "    <tr>\n",
       "      <th>mths_since_last_record</th>\n",
       "      <td>222377</td>\n",
       "      <td>87.5</td>\n",
       "    </tr>\n",
       "    <tr>\n",
       "      <th>mths_since_last_major_derog</th>\n",
       "      <td>206315</td>\n",
       "      <td>81.2</td>\n",
       "    </tr>\n",
       "  </tbody>\n",
       "</table>\n",
       "</div>"
      ],
      "text/plain": [
       "                             Missing Values  % of Total Values\n",
       "annual_inc_joint                     254190              100.0\n",
       "dti_joint                            254190              100.0\n",
       "verification_status_joint            254190              100.0\n",
       "il_util                              254065              100.0\n",
       "mths_since_rcnt_il                   254051               99.9\n",
       "open_il_6m                           254047               99.9\n",
       "open_il_12m                          254047               99.9\n",
       "total_cu_tl                          254047               99.9\n",
       "inq_fi                               254047               99.9\n",
       "all_util                             254047               99.9\n",
       "max_bal_bc                           254047               99.9\n",
       "open_rv_24m                          254047               99.9\n",
       "open_rv_12m                          254047               99.9\n",
       "total_bal_il                         254047               99.9\n",
       "open_il_24m                          254047               99.9\n",
       "inq_last_12m                         254047               99.9\n",
       "open_acc_6m                          254047               99.9\n",
       "next_pymnt_d                         252972               99.5\n",
       "mths_since_last_record               222377               87.5\n",
       "mths_since_last_major_derog          206315               81.2"
      ]
     },
     "execution_count": 12,
     "metadata": {},
     "output_type": "execute_result"
    }
   ],
   "source": [
    "# Missing values statistics\n",
    "miss_values = null_values(df)\n",
    "miss_values.head(20)"
   ]
  },
  {
   "cell_type": "markdown",
   "metadata": {
    "_uuid": "b0b94824120f605205d48cdf792bccdb7db6d0bf"
   },
   "source": [
    "> The percentage of missing data in many columns are far more than we can work with. So, we'll have to remove columns having a certain percentage of data less than the total data later on."
   ]
  },
  {
   "cell_type": "markdown",
   "metadata": {
    "_uuid": "c0f8ae6233547d536407e8b237ad55f0d69e8d6d"
   },
   "source": [
    "Another thing we would want to examine is that how many loans have a default loan status in comparison to other loans. A common thing to predict in datasets like these are if a new loan will get default or not. I'll be keeping loans with default status as my target variable."
   ]
  },
  {
   "cell_type": "code",
   "execution_count": 13,
   "metadata": {
    "_uuid": "741796ff1e353584514b6dfd847e8007895e5544"
   },
   "outputs": [
    {
     "data": {
      "text/plain": [
       "0    207724\n",
       "1     46467\n",
       "Name: TARGET, dtype: int64"
      ]
     },
     "execution_count": 13,
     "metadata": {},
     "output_type": "execute_result"
    }
   ],
   "source": [
    "target_list = [0 if i=='Fully Paid' else 1 for i in df['loan_status']]\n",
    "\n",
    "df['TARGET'] = target_list\n",
    "df['TARGET'].value_counts()"
   ]
  },
  {
   "cell_type": "markdown",
   "metadata": {
    "_uuid": "0772af7a7daa23fdedaa005f3ab23f3afdd3d51c"
   },
   "source": [
    "> This clearly is a case of an imbalanced class problem where the value of class is far less than the other. There are cost function based approaches and sampling based approaches for handling this kind of problem which we will use later so that our model doesn't exhibit high bias while trying to predict if a loan will default or not."
   ]
  },
  {
   "cell_type": "code",
   "execution_count": 14,
   "metadata": {
    "_uuid": "7d1865a5563085e9a024a2d49b1ad1b6809eab40"
   },
   "outputs": [],
   "source": [
    "df.drop('loan_status',axis=1,inplace=True)"
   ]
  },
  {
   "cell_type": "markdown",
   "metadata": {
    "_uuid": "b773eab9957b8ad5b5506abd5bca03812114e982"
   },
   "source": [
    "Then, seeing the distribution of data types we are working with,"
   ]
  },
  {
   "cell_type": "code",
   "execution_count": 15,
   "metadata": {
    "_uuid": "74e310a4008a6c570c34187e16d15de47feb17ba",
    "scrolled": false
   },
   "outputs": [
    {
     "data": {
      "text/plain": [
       "Text(0,0.5,'Data type')"
      ]
     },
     "execution_count": 15,
     "metadata": {},
     "output_type": "execute_result"
    },
    {
     "data": {
      "image/png": "[encoded data removed]",
      "text/plain": [
       "<matplotlib.figure.Figure at 0x7fa880f9dd68>"
      ]
     },
     "metadata": {},
     "output_type": "display_data"
    }
   ],
   "source": [
    "# Number of each type of column\n",
    "df.dtypes.value_counts().sort_values().plot(kind='barh')\n",
    "plt.title('Number of columns distributed by Data Types',fontsize=20)\n",
    "plt.xlabel('Number of columns',fontsize=15)\n",
    "plt.ylabel('Data type',fontsize=15)"
   ]
  },
  {
   "cell_type": "markdown",
   "metadata": {
    "_uuid": "1f45c6bac306ce3471363306445adf154d1082d8"
   },
   "source": [
    "> So we have quite a number of columns having objects data type which are going to pose a problem while modelling. "
   ]
  },
  {
   "cell_type": "markdown",
   "metadata": {
    "_uuid": "9c6d198a6d57749eb23c547824a2c1de7a97e81b"
   },
   "source": [
    "Let us see how many categorical data do the columns having 'object' data types contain:"
   ]
  },
  {
   "cell_type": "code",
   "execution_count": 16,
   "metadata": {
    "_uuid": "a33b79a2e7a06826f6400f72cf4e39f1822d29a3",
    "scrolled": true
   },
   "outputs": [
    {
     "data": {
      "text/plain": [
       "term                            2\n",
       "int_rate                      513\n",
       "grade                           7\n",
       "sub_grade                      35\n",
       "emp_length                     11\n",
       "home_ownership                  6\n",
       "verification_status             3\n",
       "pymnt_plan                      2\n",
       "purpose                        14\n",
       "addr_state                     51\n",
       "earliest_cr_line              645\n",
       "revol_util                   1199\n",
       "initial_list_status             2\n",
       "next_pymnt_d                    2\n",
       "last_credit_pull_d            102\n",
       "application_type                2\n",
       "verification_status_joint       1\n",
       "dtype: int64"
      ]
     },
     "execution_count": 16,
     "metadata": {},
     "output_type": "execute_result"
    }
   ],
   "source": [
    "df.select_dtypes('object').apply(pd.Series.nunique, axis = 0)"
   ]
  },
  {
   "cell_type": "markdown",
   "metadata": {
    "_uuid": "28ac056c4ae0f5632172a84ff8eb5c54fadac98f"
   },
   "source": [
    ">  We would want to label encode the columns having only 2 categorical data and one-hot encode columns with more than 2 categorical data. Also, columns like emp_title, url, desc, etc. should be dropped because there aren't any large number of unique data for any of the categories they contain. Also, Principal Component Analysis can be carried out for the one-hot encoded columns to bring the feature dimensions down."
   ]
  },
  {
   "cell_type": "markdown",
   "metadata": {
    "_uuid": "59bfd74eeb2c29184f5d9a28794f0163f0dc391f"
   },
   "source": [
    "## Anomaly Detection"
   ]
  },
  {
   "cell_type": "markdown",
   "metadata": {
    "_uuid": "dc9831550615fc78a1bf722b626a7d1a167b00ce",
    "collapsed": true
   },
   "source": [
    "Let us check for any anomalies on the data we might have. Possible data anamolies are often found in columns dealing with time like years of employment. Let's quickly go through them."
   ]
  },
  {
   "cell_type": "code",
   "execution_count": 17,
   "metadata": {
    "_uuid": "09b08890e74d780077209481c273c606172cc4b0"
   },
   "outputs": [
    {
     "data": {
      "text/plain": [
       "0    10+ years\n",
       "1     < 1 year\n",
       "2    10+ years\n",
       "Name: emp_length, dtype: object"
      ]
     },
     "execution_count": 17,
     "metadata": {},
     "output_type": "execute_result"
    }
   ],
   "source": [
    "df['emp_length'].head(3)"
   ]
  },
  {
   "cell_type": "markdown",
   "metadata": {
    "_uuid": "4f963b2964302008c7b5df6848d7ace48efbaa93"
   },
   "source": [
    "I'll be filling the null values with 0 assuming that the borrower hasn't worked many years for his data to be recorded. Also, I'll be using regex to extract the number of years from all of the data."
   ]
  },
  {
   "cell_type": "code",
   "execution_count": 18,
   "metadata": {
    "_uuid": "f4a9b10c31c32be99a995fbf3181d82c6a354e02",
    "scrolled": false
   },
   "outputs": [
    {
     "data": {
      "image/png": "[encoded data removed]",
      "text/plain": [
       "<matplotlib.figure.Figure at 0x7fa8412d2550>"
      ]
     },
     "metadata": {},
     "output_type": "display_data"
    }
   ],
   "source": [
    "df['emp_length'].fillna(value=0,inplace=True)\n",
    "\n",
    "df['emp_length'].replace(to_replace='[^0-9]+', value='', inplace=True, regex=True)\n",
    "\n",
    "df['emp_length'].value_counts().sort_values().plot(kind='barh',figsize=(18,8))\n",
    "plt.title('Number of loans distributed by Employment Years',fontsize=20)\n",
    "plt.xlabel('Number of loans',fontsize=15)\n",
    "plt.ylabel('Years worked',fontsize=15);"
   ]
  },
  {
   "cell_type": "markdown",
   "metadata": {
    "_uuid": "4ecb0ce275fadb9b5a02a099ddeaf1b85e7d87f8",
    "collapsed": true
   },
   "source": [
    "> The column looks fine. Also, it can be seen that people who have worked for 10 or more years are more likely to take a loan."
   ]
  },
  {
   "cell_type": "markdown",
   "metadata": {
    "_uuid": "fb99f8458cbcf8295fcd9685210cb02c90ae2f26"
   },
   "source": [
    "Let me remove all the columns with more than 70% missing data as they won't be helping for modelling and exploration."
   ]
  },
  {
   "cell_type": "code",
   "execution_count": 19,
   "metadata": {
    "_uuid": "04a7e01890b1945b54fbda359d6fb9c0c770ee9d"
   },
   "outputs": [],
   "source": [
    "temp = [i for i in df.count()<254191 *0.30]\n",
    "df.drop(df.columns[temp],axis=1,inplace=True)"
   ]
  },
  {
   "cell_type": "code",
   "execution_count": 20,
   "metadata": {
    "_uuid": "88369af63a5297618590dec62e3e26c83e87569f"
   },
   "outputs": [
    {
     "data": {
      "text/plain": [
       "INDIVIDUAL    254190\n",
       "JOINT              1\n",
       "Name: application_type, dtype: int64"
      ]
     },
     "execution_count": 20,
     "metadata": {},
     "output_type": "execute_result"
    }
   ],
   "source": [
    "df['application_type'].value_counts()"
   ]
  },
  {
   "cell_type": "markdown",
   "metadata": {
    "_uuid": "8875278354d03e25b8339b594e80ce7d49bc156d",
    "collapsed": true
   },
   "source": [
    "> Seeing the number of joint applicants in comparison to the the total applicants, it **isn't** significant enough to conclude that the loan taken by all Joint applicants are paid back. "
   ]
  },
  {
   "cell_type": "markdown",
   "metadata": {
    "_uuid": "2cdf543a65c0c6756f3ee2fd515cd195c3bf7ba8"
   },
   "source": [
    "# Cleaning the data"
   ]
  },
  {
   "cell_type": "markdown",
   "metadata": {
    "_uuid": "cf9a236087dbade5819ca427c6a109a67151c98e"
   },
   "source": [
    "\n",
    "As we had observe, some columns like annual_inc, int_rate, etc. may be much useful for building our model but on the other hand, some columns like id, member_id, etc. will not be helping. \n",
    "\n",
    "Also, columns like 'title' and 'emp_title' are text which cannot be one-hot encoded / label encoded as they have arbitrary categorical text and very less unique data for each of their categories."
   ]
  },
  {
   "cell_type": "code",
   "execution_count": 21,
   "metadata": {
    "_uuid": "fc777666c5e8933a3a17645f47b1d4a3d8aad5fb"
   },
   "outputs": [
    {
     "data": {
      "text/plain": [
       "(254191, 33)"
      ]
     },
     "execution_count": 21,
     "metadata": {},
     "output_type": "execute_result"
    }
   ],
   "source": [
    "df.shape"
   ]
  },
  {
   "cell_type": "code",
   "execution_count": 22,
   "metadata": {
    "_uuid": "0127a75a3f8717a8f9f4d7b1010d7b884b67664c"
   },
   "outputs": [
    {
     "name": "stdout",
     "output_type": "stream",
     "text": [
      "<class 'pandas.core.frame.DataFrame'>\n",
      "Int64Index: 254191 entries, 0 to 887375\n",
      "Data columns (total 33 columns):\n",
      "loan_amnt                     254191 non-null float64\n",
      "term                          254191 non-null object\n",
      "int_rate                      254191 non-null object\n",
      "installment                   254191 non-null float64\n",
      "grade                         254191 non-null object\n",
      "sub_grade                     254191 non-null object\n",
      "emp_length                    254191 non-null object\n",
      "home_ownership                254191 non-null object\n",
      "annual_inc                    254191 non-null float64\n",
      "verification_status           254191 non-null object\n",
      "pymnt_plan                    254191 non-null object\n",
      "purpose                       254191 non-null object\n",
      "addr_state                    254191 non-null object\n",
      "dti                           254191 non-null float64\n",
      "delinq_2yrs                   254191 non-null float64\n",
      "earliest_cr_line              254191 non-null object\n",
      "inq_last_6mths                254191 non-null float64\n",
      "mths_since_last_delinq        112745 non-null float64\n",
      "open_acc                      254191 non-null float64\n",
      "pub_rec                       254191 non-null float64\n",
      "revol_bal                     254191 non-null float64\n",
      "revol_util                    253991 non-null object\n",
      "total_acc                     254191 non-null float64\n",
      "initial_list_status           254191 non-null object\n",
      "last_credit_pull_d            254170 non-null object\n",
      "collections_12_mths_ex_med    254135 non-null float64\n",
      "policy_code                   254191 non-null float64\n",
      "application_type              254191 non-null object\n",
      "acc_now_delinq                254191 non-null float64\n",
      "tot_coll_amt                  190465 non-null float64\n",
      "tot_cur_bal                   190465 non-null float64\n",
      "total_rev_hi_lim              190465 non-null float64\n",
      "TARGET                        254191 non-null int64\n",
      "dtypes: float64(17), int64(1), object(15)\n",
      "memory usage: 65.9+ MB\n"
     ]
    }
   ],
   "source": [
    "df.info()"
   ]
  },
  {
   "cell_type": "markdown",
   "metadata": {
    "_uuid": "36c016d07ae421efddee9b92970121b2d67c7280"
   },
   "source": [
    "Some of these columns still look like they could need some work i.e. more cleaning! \n",
    "\n",
    "I will be fixing the data types and then handling the missing data."
   ]
  },
  {
   "cell_type": "markdown",
   "metadata": {
    "_uuid": "f143cc9ddf7fb6672a5fd00b29aff6c9698c9cc9"
   },
   "source": [
    "First, I'll be converting the date object columns into integer number of years or months just because I do not want to blow up the number of feature columns by performing one-hot encoding on them. For filling the null values I have taken the dates with the highest number of counts."
   ]
  },
  {
   "cell_type": "code",
   "execution_count": 23,
   "metadata": {
    "_uuid": "8339d2c1d4816c741c4537f7f6beb713c66e3b75"
   },
   "outputs": [],
   "source": [
    "df['last_credit_pull_d']= pd.to_datetime(df['last_credit_pull_d'].fillna(\"2016-01-01\")).apply(lambda x: int(x.strftime('%m')))\n",
    "df['earliest_cr_line']= pd.to_datetime(df['earliest_cr_line'].fillna('2001-08-01')).apply(lambda x: int(x.strftime('%m')))"
   ]
  },
  {
   "cell_type": "markdown",
   "metadata": {
    "_uuid": "8269a0a934cd32dadc909b1369a777098e66d26a"
   },
   "source": [
    "\n",
    "Let's see how we can handle our categorical data. Two methods we can use are Label Encoding and One Hot Encoding.\n",
    "\n",
    "The problem with label encoding is that it gives the categories an arbitrary ordering. The value assigned to each of the categories is random and does not reflect any inherent aspect of the category. So, If we only have two unique values for a categorical variable (such as Yes/No), then label encoding is fine, but for more than 2 unique categories, one-hot encoding is the better option.\n",
    "\n",
    "However, due to the large number of columns originated after One-Hot Encoding, we may have to conduct Principle Component Analysis (PCA) for dimensionality reduction."
   ]
  },
  {
   "cell_type": "code",
   "execution_count": 24,
   "metadata": {
    "_uuid": "952730738c174e274ade3975e5571c1e746a761c"
   },
   "outputs": [],
   "source": [
    "from sklearn import preprocessing"
   ]
  },
  {
   "cell_type": "code",
   "execution_count": 25,
   "metadata": {
    "_uuid": "4607079c9ece6ce57762226e30446367fff30dcc"
   },
   "outputs": [
    {
     "name": "stdout",
     "output_type": "stream",
     "text": [
      "term\n",
      "pymnt_plan\n",
      "initial_list_status\n",
      "application_type\n",
      "4 columns were label encoded.\n"
     ]
    }
   ],
   "source": [
    "count = 0\n",
    "\n",
    "for col in df:\n",
    "    if df[col].dtype == 'object':\n",
    "        if len(list(df[col].unique())) <= 2:     \n",
    "            le = preprocessing.LabelEncoder()\n",
    "            df[col] = le.fit_transform(df[col])\n",
    "            count += 1\n",
    "            print (col)\n",
    "            \n",
    "print('%d columns were label encoded.' % count)"
   ]
  },
  {
   "cell_type": "markdown",
   "metadata": {
    "_uuid": "ffe8aa51d3aa5c1f619f55642d56c7975076315e"
   },
   "source": [
    "And one-hot encoding the rest categorical columns,"
   ]
  },
  {
   "cell_type": "code",
   "execution_count": 26,
   "metadata": {
    "_uuid": "14780d96592d3516cbc2a16faa156fd67f37178b"
   },
   "outputs": [],
   "source": [
    "df.int_rate = df['int_rate'].map(lambda x: x.rstrip('%'))\n",
    "df.int_rate = df.int_rate.astype('float64')"
   ]
  },
  {
   "cell_type": "code",
   "execution_count": 27,
   "metadata": {
    "_uuid": "14780d96592d3516cbc2a16faa156fd67f37178b"
   },
   "outputs": [],
   "source": [
    "df.revol_util = df.revol_util.astype(str).map(lambda x: x.rstrip('%'))\n",
    "df.revol_util = df.revol_util.astype('float64')"
   ]
  },
  {
   "cell_type": "code",
   "execution_count": 28,
   "metadata": {
    "_uuid": "14780d96592d3516cbc2a16faa156fd67f37178b",
    "scrolled": true
   },
   "outputs": [],
   "source": [
    "df.emp_length = df.emp_length.astype('float64')"
   ]
  },
  {
   "cell_type": "markdown",
   "metadata": {
    "_uuid": "ba5f8e0d3a56553a7429e7cac0bbc0c79806e7b4"
   },
   "source": [
    "For the 'mths_since_last_delinq' column, I'll be filling in the missing value with the median of the columns as the data in the column is continuous."
   ]
  },
  {
   "cell_type": "code",
   "execution_count": 29,
   "metadata": {
    "_uuid": "b0fa6ea4726bf478e2a3a095efaa5212b2287bfd"
   },
   "outputs": [],
   "source": [
    "df['mths_since_last_delinq'] = df['mths_since_last_delinq'].fillna(df['mths_since_last_delinq'].median())"
   ]
  },
  {
   "cell_type": "markdown",
   "metadata": {
    "_uuid": "e31f8eebf31200840fed444f8411f1dd001976a5"
   },
   "source": [
    "However for columns like 'total_rev_hi_lim','tot_col_ammnt',etc. , I won't be filling in the missing data because they will certainly be of high feature importance due to their description. If they do not seem to be of high importance we can always re-iterate and fill the missing values later. \n",
    "\n",
    "So, dropping all remaining null values,"
   ]
  },
  {
   "cell_type": "code",
   "execution_count": 30,
   "metadata": {
    "_uuid": "deeb718addb1fc6f0a6fc06fb955b69eb3169bf2"
   },
   "outputs": [],
   "source": [
    "df.dropna(inplace=True)"
   ]
  },
  {
   "cell_type": "code",
   "execution_count": 31,
   "metadata": {
    "_uuid": "f033f97624802b521b8892826793f00429947b82"
   },
   "outputs": [
    {
     "data": {
      "text/plain": [
       "(190344, 141)"
      ]
     },
     "execution_count": 31,
     "metadata": {},
     "output_type": "execute_result"
    }
   ],
   "source": [
    "df2 = pd.get_dummies(df)\n",
    "df2.shape"
   ]
  },
  {
   "cell_type": "code",
   "execution_count": 32,
   "metadata": {
    "_uuid": "f033f97624802b521b8892826793f00429947b82"
   },
   "outputs": [
    {
     "data": {
      "text/plain": [
       "0    153938\n",
       "1     36406\n",
       "Name: TARGET, dtype: int64"
      ]
     },
     "execution_count": 32,
     "metadata": {},
     "output_type": "execute_result"
    }
   ],
   "source": [
    "df['TARGET'].value_counts()"
   ]
  },
  {
   "cell_type": "markdown",
   "metadata": {
    "_uuid": "dfb834d8f791d5e08822d1511bd69abee6878866"
   },
   "source": [
    "We are now left with a reasonable amount of data for modelling.\n",
    "\n",
    "---"
   ]
  },
  {
   "cell_type": "markdown",
   "metadata": {
    "_uuid": "0d2f59985dbca1746a10b44bdd5dd62660c35d16",
    "collapsed": true
   },
   "source": [
    "# Train-Test Split"
   ]
  },
  {
   "cell_type": "code",
   "execution_count": 88,
   "metadata": {
    "_uuid": "ec40193cd5db060c89aacf2ab6c839550beb432b"
   },
   "outputs": [],
   "source": [
    "from sklearn.model_selection import train_test_split\n",
    "\n",
    "X = df2.drop('TARGET', axis=1)\n",
    "y = df2.TARGET\n",
    "\n",
    "X_train, X_test, y_train, y_test = train_test_split(X, y, test_size=0.33, random_state=42)"
   ]
  },
  {
   "cell_type": "code",
   "execution_count": 89,
   "metadata": {
    "_uuid": "ec40193cd5db060c89aacf2ab6c839550beb432b"
   },
   "outputs": [],
   "source": [
    "from sklearn.preprocessing import MinMaxScaler\n",
    "sc = MinMaxScaler()"
   ]
  },
  {
   "cell_type": "code",
   "execution_count": 90,
   "metadata": {
    "_uuid": "ec40193cd5db060c89aacf2ab6c839550beb432b"
   },
   "outputs": [
    {
     "name": "stderr",
     "output_type": "stream",
     "text": [
      "/home/gyanendra/anaconda2/envs/py36/lib/python3.6/site-packages/ipykernel_launcher.py:3: SettingWithCopyWarning: \n",
      "A value is trying to be set on a copy of a slice from a DataFrame.\n",
      "Try using .loc[row_indexer,col_indexer] = value instead\n",
      "\n",
      "See the caveats in the documentation: http://pandas.pydata.org/pandas-docs/stable/indexing.html#indexing-view-versus-copy\n",
      "  This is separate from the ipykernel package so we can avoid doing imports until\n",
      "/home/gyanendra/anaconda2/envs/py36/lib/python3.6/site-packages/sklearn/utils/validation.py:475: DataConversionWarning: Data with input dtype int64 was converted to float64 by MinMaxScaler.\n",
      "  warnings.warn(msg, DataConversionWarning)\n",
      "/home/gyanendra/anaconda2/envs/py36/lib/python3.6/site-packages/ipykernel_launcher.py:7: SettingWithCopyWarning: \n",
      "A value is trying to be set on a copy of a slice from a DataFrame.\n",
      "Try using .loc[row_indexer,col_indexer] = value instead\n",
      "\n",
      "See the caveats in the documentation: http://pandas.pydata.org/pandas-docs/stable/indexing.html#indexing-view-versus-copy\n",
      "  import sys\n"
     ]
    }
   ],
   "source": [
    "for col in X_train.columns:\n",
    "    if X_train[col].dtype in ['float64', 'int64']:\n",
    "        X_train[col] = sc.fit_transform(X_train[col].reshape(-1,1))\n",
    "\n",
    "for col in X_test.columns:\n",
    "    if X_test[col].dtype in ['float64', 'int64']:\n",
    "        X_test[col] = sc.transform(X_test[col].reshape(-1,1))"
   ]
  },
  {
   "cell_type": "code",
   "execution_count": 91,
   "metadata": {
    "_uuid": "ec40193cd5db060c89aacf2ab6c839550beb432b"
   },
   "outputs": [],
   "source": [
    "# Variance Threshold\n",
    "drop_list = []\n",
    "for col in X_train.columns:\n",
    "    if X_train[col].dtype in ['float64', 'int64']:\n",
    "        if np.var(X_train[col]) < 0.0001:\n",
    "            drop_list.append(col)"
   ]
  },
  {
   "cell_type": "code",
   "execution_count": 92,
   "metadata": {
    "_uuid": "ec40193cd5db060c89aacf2ab6c839550beb432b"
   },
   "outputs": [
    {
     "name": "stderr",
     "output_type": "stream",
     "text": [
      "/home/gyanendra/anaconda2/envs/py36/lib/python3.6/site-packages/ipykernel_launcher.py:1: SettingWithCopyWarning: \n",
      "A value is trying to be set on a copy of a slice from a DataFrame\n",
      "\n",
      "See the caveats in the documentation: http://pandas.pydata.org/pandas-docs/stable/indexing.html#indexing-view-versus-copy\n",
      "  \"\"\"Entry point for launching an IPython kernel.\n",
      "/home/gyanendra/anaconda2/envs/py36/lib/python3.6/site-packages/ipykernel_launcher.py:3: SettingWithCopyWarning: \n",
      "A value is trying to be set on a copy of a slice from a DataFrame\n",
      "\n",
      "See the caveats in the documentation: http://pandas.pydata.org/pandas-docs/stable/indexing.html#indexing-view-versus-copy\n",
      "  This is separate from the ipykernel package so we can avoid doing imports until\n"
     ]
    }
   ],
   "source": [
    "X_train.drop(drop_list, axis=1, inplace=True)\n",
    "\n",
    "X_test.drop(drop_list, axis=1, inplace=True)"
   ]
  },
  {
   "cell_type": "markdown",
   "metadata": {
    "_uuid": "ec40193cd5db060c89aacf2ab6c839550beb432b"
   },
   "source": [
    "# Feature Selection"
   ]
  },
  {
   "cell_type": "code",
   "execution_count": 72,
   "metadata": {
    "_uuid": "ec40193cd5db060c89aacf2ab6c839550beb432b"
   },
   "outputs": [],
   "source": [
    "from sklearn.tree import DecisionTreeClassifier"
   ]
  },
  {
   "cell_type": "code",
   "execution_count": null,
   "metadata": {
    "_uuid": "ec40193cd5db060c89aacf2ab6c839550beb432b"
   },
   "outputs": [],
   "source": [
    "clf = DecisionTreeClassifier()\n",
    "clf.fit(X_train, y_train)"
   ]
  },
  {
   "cell_type": "code",
   "execution_count": 80,
   "metadata": {
    "_uuid": "ec40193cd5db060c89aacf2ab6c839550beb432b"
   },
   "outputs": [
    {
     "data": {
      "text/plain": [
       "array([100,  92, 107,  58,  57, 108,  25,  60,  56,  23,  76,  24,  55,\n",
       "        61,  22,  27,  53,  26,  54,  16,  52, 125,  51,  49,  47,  50,\n",
       "       105,  80,  79, 120, 104,  46, 129,  29,  28,  87, 128,  48,  21,\n",
       "        78,  71, 109,  17,  88,  44,  74,  67,  20, 118,  91,  45,  30,\n",
       "        43,  32, 123, 119,  82, 111,  39,  41,  95,  73, 116,  37, 127,\n",
       "        18,  31,  19, 115,  33,  40,  72,  96,  38,  42])"
      ]
     },
     "execution_count": 80,
     "metadata": {},
     "output_type": "execute_result"
    }
   ],
   "source": [
    "indices[:75]"
   ]
  },
  {
   "cell_type": "code",
   "execution_count": 81,
   "metadata": {
    "_uuid": "ec40193cd5db060c89aacf2ab6c839550beb432b"
   },
   "outputs": [],
   "source": [
    "importances = clf.feature_importances_\n",
    "indices = np.argsort(importances)[:75]\n",
    "cols_to_keep = X_train.columns[indices]"
   ]
  },
  {
   "cell_type": "code",
   "execution_count": 82,
   "metadata": {
    "_uuid": "ec40193cd5db060c89aacf2ab6c839550beb432b"
   },
   "outputs": [],
   "source": [
    "X_train = X_train.loc[:, cols_to_keep]\n",
    "X_test = X_test.loc[:, cols_to_keep]"
   ]
  },
  {
   "cell_type": "markdown",
   "metadata": {
    "_uuid": "ec40193cd5db060c89aacf2ab6c839550beb432b"
   },
   "source": [
    "# Modelling"
   ]
  },
  {
   "cell_type": "code",
   "execution_count": 83,
   "metadata": {
    "_uuid": "ec40193cd5db060c89aacf2ab6c839550beb432b"
   },
   "outputs": [],
   "source": [
    "from sklearn.linear_model import LogisticRegression"
   ]
  },
  {
   "cell_type": "code",
   "execution_count": 94,
   "metadata": {
    "_uuid": "ec40193cd5db060c89aacf2ab6c839550beb432b"
   },
   "outputs": [
    {
     "data": {
      "text/plain": [
       "DecisionTreeClassifier(class_weight=None, criterion='gini', max_depth=None,\n",
       "            max_features=None, max_leaf_nodes=None,\n",
       "            min_impurity_decrease=0.0, min_impurity_split=None,\n",
       "            min_samples_leaf=1, min_samples_split=2,\n",
       "            min_weight_fraction_leaf=0.0, presort=False, random_state=None,\n",
       "            splitter='best')"
      ]
     },
     "execution_count": 94,
     "metadata": {},
     "output_type": "execute_result"
    }
   ],
   "source": [
    "log_reg = LogisticRegression(C = 0.0001,random_state=21)\n",
    "dtree = DecisionTreeClassifier()\n",
    "\n",
    "log_reg.fit(X_train, y_train)\n",
    "dtree.fit(X_train, y_train)"
   ]
  },
  {
   "cell_type": "code",
   "execution_count": 95,
   "metadata": {
    "_uuid": "ec40193cd5db060c89aacf2ab6c839550beb432b"
   },
   "outputs": [],
   "source": [
    "from sklearn.metrics import classification_report, accuracy_score"
   ]
  },
  {
   "cell_type": "code",
   "execution_count": 96,
   "metadata": {
    "_uuid": "ec40193cd5db060c89aacf2ab6c839550beb432b"
   },
   "outputs": [],
   "source": [
    "y_pred_l = log_reg.predict(X_test)\n",
    "y_pred_d = dtree.predict(X_test)"
   ]
  },
  {
   "cell_type": "code",
   "execution_count": 98,
   "metadata": {
    "_uuid": "ec40193cd5db060c89aacf2ab6c839550beb432b"
   },
   "outputs": [
    {
     "name": "stdout",
     "output_type": "stream",
     "text": [
      "             precision    recall  f1-score   support\n",
      "\n",
      "          0       0.81      1.00      0.89     50810\n",
      "          1       0.00      0.00      0.00     12004\n",
      "\n",
      "avg / total       0.65      0.81      0.72     62814\n",
      "\n",
      "0.8088961059636387\n"
     ]
    },
    {
     "name": "stderr",
     "output_type": "stream",
     "text": [
      "/home/gyanendra/anaconda2/envs/py36/lib/python3.6/site-packages/sklearn/metrics/classification.py:1135: UndefinedMetricWarning: Precision and F-score are ill-defined and being set to 0.0 in labels with no predicted samples.\n",
      "  'precision', 'predicted', average, warn_for)\n"
     ]
    }
   ],
   "source": [
    "#for log reg\n",
    "print (classification_report(y_test, y_pred_l))\n",
    "print (accuracy_score(y_test, y_pred_l))"
   ]
  },
  {
   "cell_type": "code",
   "execution_count": 99,
   "metadata": {
    "_uuid": "ec40193cd5db060c89aacf2ab6c839550beb432b"
   },
   "outputs": [
    {
     "name": "stdout",
     "output_type": "stream",
     "text": [
      "             precision    recall  f1-score   support\n",
      "\n",
      "          0       0.81      0.92      0.86     50810\n",
      "          1       0.23      0.09      0.13     12004\n",
      "\n",
      "avg / total       0.70      0.77      0.72     62814\n",
      "\n",
      "0.7658802177858439\n"
     ]
    }
   ],
   "source": [
    "#for dtree\n",
    "print (classification_report(y_test, y_pred_d))\n",
    "print (accuracy_score(y_test, y_pred_d))"
   ]
  },
  {
   "cell_type": "code",
   "execution_count": 101,
   "metadata": {
    "_uuid": "ec40193cd5db060c89aacf2ab6c839550beb432b"
   },
   "outputs": [],
   "source": [
    "#Random forest\n",
    "\n",
    "from sklearn.ensemble import RandomForestClassifier\n",
    "\n",
    "rf = RandomForestClassifier()\n",
    "rf.fit(X_train, y_train)\n",
    "y_pred_rf = rf.predict(X_test)"
   ]
  },
  {
   "cell_type": "code",
   "execution_count": 102,
   "metadata": {
    "_uuid": "ec40193cd5db060c89aacf2ab6c839550beb432b"
   },
   "outputs": [
    {
     "name": "stdout",
     "output_type": "stream",
     "text": [
      "             precision    recall  f1-score   support\n",
      "\n",
      "          0       0.81      1.00      0.89     50810\n",
      "          1       0.21      0.00      0.01     12004\n",
      "\n",
      "avg / total       0.69      0.81      0.72     62814\n",
      "\n",
      "0.8065240233069061\n"
     ]
    }
   ],
   "source": [
    "print (classification_report(y_test, y_pred_rf))\n",
    "print (accuracy_score(y_test, y_pred_rf))"
   ]
  },
  {
   "cell_type": "markdown",
   "metadata": {
    "_uuid": "ec40193cd5db060c89aacf2ab6c839550beb432b"
   },
   "source": [
    "For further enhancements to the model, feature engineering could be done. Also a broader term like 'good loan' and 'bad loan' could have been used by encompassing different loan statuses together to get a more balanced counts of classes rather than default/non-default."
   ]
  }
 ],
 "metadata": {
  "kernelspec": {
   "display_name": "Python 3",
   "language": "python",
   "name": "python3"
  },
  "language_info": {
   "codemirror_mode": {
    "name": "ipython",
    "version": 3
   },
   "file_extension": ".py",
   "mimetype": "text/x-python",
   "name": "python",
   "nbconvert_exporter": "python",
   "pygments_lexer": "ipython3",
   "version": "3.6.4"
  }
 },
 "nbformat": 4,
 "nbformat_minor": 1
}
